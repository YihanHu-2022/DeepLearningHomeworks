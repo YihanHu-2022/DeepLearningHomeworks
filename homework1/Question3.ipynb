{
 "cells": [
  {
   "cell_type": "markdown",
   "metadata": {},
   "source": [
    "三、动手实现 softmax 回归"
   ]
  },
  {
   "cell_type": "code",
   "execution_count": 74,
   "metadata": {},
   "outputs": [],
   "source": [
    "#调用torch库\n",
    "import torch\n",
    "import torchvision\n",
    "import torchvision.transforms as transforms\n",
    "\n",
    "import torch.nn as nn\n",
    "import torch.nn.functional as F\n",
    "#调用numpy库\n",
    "import numpy as np\n",
    "#调用matplotlib库\n",
    "import matplotlib.pyplot as plt\n",
    "#调用random库\n",
    "import random"
   ]
  },
  {
   "cell_type": "markdown",
   "metadata": {},
   "source": [
    "加载Fashion-MNIST数据集（采用已经划分好的训练集和测试集）"
   ]
  },
  {
   "cell_type": "code",
   "execution_count": 2,
   "metadata": {},
   "outputs": [
    {
     "name": "stdout",
     "output_type": "stream",
     "text": [
      "Downloading http://fashion-mnist.s3-website.eu-central-1.amazonaws.com/train-images-idx3-ubyte.gz\n",
      "Downloading http://fashion-mnist.s3-website.eu-central-1.amazonaws.com/train-images-idx3-ubyte.gz to /home/yihanhu/Datasets/FashionMNIST/FashionMNIST/raw/train-images-idx3-ubyte.gz\n"
     ]
    },
    {
     "data": {
      "application/vnd.jupyter.widget-view+json": {
       "model_id": "23f3af2125374aeb950e2510c64cb84e",
       "version_major": 2,
       "version_minor": 0
      },
      "text/plain": [
       "  0%|          | 0/26421880 [00:00<?, ?it/s]"
      ]
     },
     "metadata": {},
     "output_type": "display_data"
    },
    {
     "name": "stdout",
     "output_type": "stream",
     "text": [
      "Extracting /home/yihanhu/Datasets/FashionMNIST/FashionMNIST/raw/train-images-idx3-ubyte.gz to /home/yihanhu/Datasets/FashionMNIST/FashionMNIST/raw\n",
      "\n",
      "Downloading http://fashion-mnist.s3-website.eu-central-1.amazonaws.com/train-labels-idx1-ubyte.gz\n",
      "Downloading http://fashion-mnist.s3-website.eu-central-1.amazonaws.com/train-labels-idx1-ubyte.gz to /home/yihanhu/Datasets/FashionMNIST/FashionMNIST/raw/train-labels-idx1-ubyte.gz\n"
     ]
    },
    {
     "data": {
      "application/vnd.jupyter.widget-view+json": {
       "model_id": "6cc1d2456f0045728d0b823f73249032",
       "version_major": 2,
       "version_minor": 0
      },
      "text/plain": [
       "  0%|          | 0/29515 [00:00<?, ?it/s]"
      ]
     },
     "metadata": {},
     "output_type": "display_data"
    },
    {
     "name": "stdout",
     "output_type": "stream",
     "text": [
      "Extracting /home/yihanhu/Datasets/FashionMNIST/FashionMNIST/raw/train-labels-idx1-ubyte.gz to /home/yihanhu/Datasets/FashionMNIST/FashionMNIST/raw\n",
      "\n",
      "Downloading http://fashion-mnist.s3-website.eu-central-1.amazonaws.com/t10k-images-idx3-ubyte.gz\n",
      "Downloading http://fashion-mnist.s3-website.eu-central-1.amazonaws.com/t10k-images-idx3-ubyte.gz to /home/yihanhu/Datasets/FashionMNIST/FashionMNIST/raw/t10k-images-idx3-ubyte.gz\n"
     ]
    },
    {
     "data": {
      "application/vnd.jupyter.widget-view+json": {
       "model_id": "22bff1e66f184710948b03c0766c7ab4",
       "version_major": 2,
       "version_minor": 0
      },
      "text/plain": [
       "  0%|          | 0/4422102 [00:00<?, ?it/s]"
      ]
     },
     "metadata": {},
     "output_type": "display_data"
    },
    {
     "name": "stdout",
     "output_type": "stream",
     "text": [
      "Extracting /home/yihanhu/Datasets/FashionMNIST/FashionMNIST/raw/t10k-images-idx3-ubyte.gz to /home/yihanhu/Datasets/FashionMNIST/FashionMNIST/raw\n",
      "\n",
      "Downloading http://fashion-mnist.s3-website.eu-central-1.amazonaws.com/t10k-labels-idx1-ubyte.gz\n",
      "Downloading http://fashion-mnist.s3-website.eu-central-1.amazonaws.com/t10k-labels-idx1-ubyte.gz to /home/yihanhu/Datasets/FashionMNIST/FashionMNIST/raw/t10k-labels-idx1-ubyte.gz\n"
     ]
    },
    {
     "data": {
      "application/vnd.jupyter.widget-view+json": {
       "model_id": "41bed467cee74f33ab64c5c18a5a28aa",
       "version_major": 2,
       "version_minor": 0
      },
      "text/plain": [
       "  0%|          | 0/5148 [00:00<?, ?it/s]"
      ]
     },
     "metadata": {},
     "output_type": "display_data"
    },
    {
     "name": "stdout",
     "output_type": "stream",
     "text": [
      "Extracting /home/yihanhu/Datasets/FashionMNIST/FashionMNIST/raw/t10k-labels-idx1-ubyte.gz to /home/yihanhu/Datasets/FashionMNIST/FashionMNIST/raw\n",
      "\n"
     ]
    },
    {
     "name": "stderr",
     "output_type": "stream",
     "text": [
      "/home/yihanhu/anaconda3/lib/python3.8/site-packages/torchvision/datasets/mnist.py:498: UserWarning: The given NumPy array is not writeable, and PyTorch does not support non-writeable tensors. This means you can write to the underlying (supposedly non-writeable) NumPy array using the tensor. You may want to copy the array to protect its data or make it writeable before converting it to a tensor. This type of warning will be suppressed for the rest of this program. (Triggered internally at  /opt/conda/conda-bld/pytorch_1623448278899/work/torch/csrc/utils/tensor_numpy.cpp:180.)\n",
      "  return torch.from_numpy(parsed.astype(m[2], copy=False)).view(*s)\n"
     ]
    }
   ],
   "source": [
    "mnist_train = torchvision.datasets.FashionMNIST(root='~/Datasets/FashionMNIST', train=True, \n",
    "download=True, transform=transforms.ToTensor())\n",
    "mnist_test = torchvision.datasets.FashionMNIST(root='~/Datasets/FashionMNIST', train=False, \n",
    "download=True, transform=transforms.ToTensor())"
   ]
  },
  {
   "cell_type": "markdown",
   "metadata": {},
   "source": [
    "题目1. 要求动手从0实现 softmax 回归（只借助Tensor和Numpy相关的库）在Fashion-MNIST数据\n",
    "集上进行训练和测试，并从loss、训练集以及测试集上的准确率等多个角度对结果进行分析\n",
    "（要求从零实现交叉熵损失函数）"
   ]
  },
  {
   "cell_type": "code",
   "execution_count": 126,
   "metadata": {},
   "outputs": [],
   "source": [
    "#使用课上给出的数据读取函数\n",
    "batch_size = 256\n",
    "num_workers = 16\n",
    "train_iter = torch.utils.data.DataLoader(mnist_train, batch_size=batch_size, shuffle=True,\n",
    "num_workers=num_workers)\n",
    "test_iter = torch.utils.data.DataLoader(mnist_test, batch_size=batch_size, shuffle=False, \n",
    "num_workers=num_workers)"
   ]
  },
  {
   "cell_type": "code",
   "execution_count": 6,
   "metadata": {},
   "outputs": [],
   "source": [
    "#使用课上给出的优化函数进行参数的学习优化\n",
    "def sgd(params, lr, batch_size):\n",
    "    for param in params:\n",
    "        param.data -= lr * param.grad / batch_size"
   ]
  },
  {
   "cell_type": "code",
   "execution_count": 56,
   "metadata": {},
   "outputs": [],
   "source": [
    "# 损失函数使用手动实现的交叉熵损失函数\n",
    "# y_hat为模型的预测值，而y为真实标签\n",
    "def Loss(y_hat, y):\n",
    "    return - torch.log(y_hat[range(len(y_hat)), y])"
   ]
  },
  {
   "cell_type": "code",
   "execution_count": 55,
   "metadata": {},
   "outputs": [],
   "source": [
    "# 计算预测的准确度\n",
    "def accuracy(y_hat, y):  #@save\n",
    "    y_hat = y_hat.argmax(axis=1)\n",
    "    cmp = y_hat.type(y.dtype) == y\n",
    "    return float(cmp.type(y.dtype).sum())"
   ]
  },
  {
   "cell_type": "code",
   "execution_count": 54,
   "metadata": {},
   "outputs": [],
   "source": [
    "# 手动实现Softmax回归函数\n",
    "class Softmax:\n",
    "    def __init__(self, image_size, class_num, opt, device):\n",
    "        self.w = torch.tensor(np.random.normal(0, 0.01, (image_size * image_size, class_num)), dtype=torch.float32).to(device)\n",
    "        self.b = torch.zeros(class_num, dtype=torch.float32).to(device)\n",
    "        self.w.requires_grad_(requires_grad=True)\n",
    "        self.b.requires_grad_(requires_grad=True) \n",
    "\n",
    "        self.opt = opt\n",
    "\n",
    "    def softmax(self, x):\n",
    "        x_exp = torch.exp(x)\n",
    "        partition = x_exp.sum(1, keepdim=True)\n",
    "        return x_exp / partition\n",
    "\n",
    "    def forward(self, x):\n",
    "        x = x.squeeze(1).flatten(1, 2)\n",
    "        x = torch.matmul(x, self.w) + self.b\n",
    "        y_hat = self.softmax(x)\n",
    "        return y_hat\n",
    "    \n",
    "    def learn(self, lr, bs):\n",
    "        self.opt([self.w, self.b], lr, bs)\n",
    "\n",
    "    def reset_grad(self):\n",
    "        self.w.grad.data.zero_()\n",
    "        self.b.grad.data.zero_()"
   ]
  },
  {
   "cell_type": "code",
   "execution_count": 68,
   "metadata": {},
   "outputs": [
    {
     "name": "stdout",
     "output_type": "stream",
     "text": [
      "epoch: 0, total loss: 196.295532, total_acc: 0.744336\n",
      "epoch: 1, total loss: 170.512558, total_acc: 0.779980\n",
      "epoch: 2, total loss: 158.325180, total_acc: 0.791406\n",
      "epoch: 3, total loss: 151.255554, total_acc: 0.798438\n",
      "epoch: 4, total loss: 146.024414, total_acc: 0.809473\n",
      "epoch: 5, total loss: 142.178391, total_acc: 0.814063\n",
      "epoch: 6, total loss: 139.341827, total_acc: 0.816113\n",
      "epoch: 7, total loss: 137.081894, total_acc: 0.815625\n",
      "epoch: 8, total loss: 134.817184, total_acc: 0.820312\n",
      "epoch: 9, total loss: 133.162582, total_acc: 0.821289\n",
      "epoch: 10, total loss: 131.648331, total_acc: 0.822852\n",
      "epoch: 11, total loss: 130.491745, total_acc: 0.824902\n",
      "epoch: 12, total loss: 129.089035, total_acc: 0.826270\n",
      "epoch: 13, total loss: 128.044617, total_acc: 0.829199\n",
      "epoch: 14, total loss: 127.534233, total_acc: 0.827637\n",
      "epoch: 15, total loss: 126.344376, total_acc: 0.829199\n",
      "epoch: 16, total loss: 125.896873, total_acc: 0.829883\n",
      "epoch: 17, total loss: 124.884415, total_acc: 0.830957\n",
      "epoch: 18, total loss: 124.354042, total_acc: 0.831348\n",
      "epoch: 19, total loss: 123.599075, total_acc: 0.831934\n",
      "epoch: 20, total loss: 123.318192, total_acc: 0.830957\n",
      "epoch: 21, total loss: 122.707214, total_acc: 0.831445\n",
      "epoch: 22, total loss: 122.201050, total_acc: 0.833203\n",
      "epoch: 23, total loss: 122.019608, total_acc: 0.832715\n",
      "epoch: 24, total loss: 121.300186, total_acc: 0.834082\n",
      "epoch: 25, total loss: 120.810852, total_acc: 0.834668\n",
      "epoch: 26, total loss: 120.450218, total_acc: 0.835547\n",
      "epoch: 27, total loss: 120.166946, total_acc: 0.834277\n",
      "epoch: 28, total loss: 120.295120, total_acc: 0.834277\n",
      "epoch: 29, total loss: 119.803162, total_acc: 0.835547\n"
     ]
    }
   ],
   "source": [
    "epoch_num = 30\n",
    "lr = 0.03\n",
    "image_size = 28\n",
    "class_num = 10\n",
    "device = 'cuda:0'\n",
    "opt = sgd\n",
    "loss = Loss\n",
    "net = Softmax(image_size, class_num, sgd, device)\n",
    "train_loss_list = []\n",
    "test_loss_list = []\n",
    "test_acc_list = []\n",
    "for epoch in range(epoch_num):\n",
    "    for i, datas in enumerate(train_iter):\n",
    "        train_x, train_label = datas[0].to(device), datas[1].to(device)\n",
    "        train_pred = net.forward(train_x)\n",
    "        l = loss(train_pred, train_label).sum()\n",
    "        l.backward()\n",
    "        net.learn(lr, batch_size)\n",
    "        net.reset_grad()\n",
    "        train_loss_list.append(l.item())\n",
    "    \n",
    "    with torch.no_grad():\n",
    "        total_loss = 0\n",
    "        total_acc = 0\n",
    "        for i, datas in enumerate(test_iter):\n",
    "            test_x, test_label = datas[0].to(device), datas[1].to(device)\n",
    "            test_pred = net.forward(test_x)\n",
    "\n",
    "            l = loss(test_pred, test_label).sum()\n",
    "            total_loss += l\n",
    "\n",
    "            acc = accuracy(test_pred, test_label) / len(test_pred)\n",
    "            total_acc += acc\n",
    "\n",
    "        test_loss_list.append(total_loss.item())\n",
    "        test_acc_list.append(acc)\n",
    "        print('epoch: %d, total loss: %f, total_acc: %f'%(epoch + 1, total_loss / (i+1), total_acc / (i+1)))"
   ]
  },
  {
   "cell_type": "markdown",
   "metadata": {},
   "source": [
    "绘制训练损失图"
   ]
  },
  {
   "cell_type": "code",
   "execution_count": 69,
   "metadata": {},
   "outputs": [
    {
     "data": {
      "image/png": "[encoded data removed]",
      "text/plain": [
       "<Figure size 432x288 with 1 Axes>"
      ]
     },
     "metadata": {
      "needs_background": "light"
     },
     "output_type": "display_data"
    }
   ],
   "source": [
    "x = [i + 1 for i in range(len(train_loss_list))]\n",
    "y = train_loss_list\n",
    "l1 = plt.plot(x, y, 'r--', label='train_loss')\n",
    "\n",
    "plt.title('Training Loss')\n",
    "plt.xlabel('step')\n",
    "plt.ylabel('loss value')\n",
    "plt.show()"
   ]
  },
  {
   "cell_type": "markdown",
   "metadata": {},
   "source": [
    "绘制验证损失图"
   ]
  },
  {
   "cell_type": "code",
   "execution_count": 70,
   "metadata": {},
   "outputs": [
    {
     "data": {
      "image/png": "[encoded data removed]",
      "text/plain": [
       "<Figure size 432x288 with 1 Axes>"
      ]
     },
     "metadata": {
      "needs_background": "light"
     },
     "output_type": "display_data"
    }
   ],
   "source": [
    "x = [i + 1 for i in range(len(test_loss_list))]\n",
    "y = test_loss_list\n",
    "l1 = plt.plot(x, y, 'r--', label='test_loss')\n",
    "\n",
    "plt.title('Validation Loss')\n",
    "plt.xlabel('epoch')\n",
    "plt.ylabel('loss value')\n",
    "plt.show()"
   ]
  },
  {
   "cell_type": "markdown",
   "metadata": {},
   "source": [
    "绘制验证精度图"
   ]
  },
  {
   "cell_type": "code",
   "execution_count": 72,
   "metadata": {},
   "outputs": [
    {
     "data": {
      "image/png": "[encoded data removed]",
      "text/plain": [
       "<Figure size 432x288 with 1 Axes>"
      ]
     },
     "metadata": {
      "needs_background": "light"
     },
     "output_type": "display_data"
    }
   ],
   "source": [
    "x = [i + 1 for i in range(len(test_acc_list))]\n",
    "y = test_acc_list\n",
    "l1 = plt.plot(x, y, 'r--', label='test_acc')\n",
    "\n",
    "plt.title('Validation Accuracy')\n",
    "plt.xlabel('epoch')\n",
    "plt.ylabel('accuracy')\n",
    "plt.show()"
   ]
  },
  {
   "cell_type": "markdown",
   "metadata": {},
   "source": [
    "题目2. 利用torch.nn实现 softmax 回归在Fashion-MNIST数据集上进行训练和测试，并从loss，训\n",
    "练集以及测试集上的准确率等多个角度对结果进行分析"
   ]
  },
  {
   "cell_type": "code",
   "execution_count": 170,
   "metadata": {},
   "outputs": [],
   "source": [
    "class SoftmaxNet(nn.Module):\n",
    "    def __init__(self, image_size, class_num):\n",
    "        super(SoftmaxNet, self).__init__()\n",
    "        self.linear = nn.Linear(image_size * image_size, class_num)\n",
    "\n",
    "    def forward(self, x):\n",
    "        y = self.linear(x.view(x.shape[0], -1))\n",
    "        return y\n",
    "\n",
    "    def _init_weight(self):\n",
    "        for m in self.modules():\n",
    "            if isinstance(m, nn.Linear):\n",
    "                nn.init.normal_(m.weight, mean=0, std=0.01)\n",
    "                nn.init.constant_(m.bias, val=0) "
   ]
  },
  {
   "cell_type": "code",
   "execution_count": 172,
   "metadata": {},
   "outputs": [
    {
     "name": "stdout",
     "output_type": "stream",
     "text": [
      "epoch 1, loss 0.003079, train acc 0.750767, test acc 0.753500\n",
      "epoch 2, loss 0.002230, train acc 0.813067, test acc 0.805100\n",
      "epoch 3, loss 0.002054, train acc 0.826100, test acc 0.817200\n",
      "epoch 4, loss 0.001963, train acc 0.831750, test acc 0.822500\n",
      "epoch 5, loss 0.001901, train acc 0.837367, test acc 0.822700\n",
      "epoch 6, loss 0.001854, train acc 0.840550, test acc 0.822200\n",
      "epoch 7, loss 0.001822, train acc 0.842800, test acc 0.830300\n",
      "epoch 8, loss 0.001792, train acc 0.845433, test acc 0.825700\n",
      "epoch 9, loss 0.001770, train acc 0.847267, test acc 0.825000\n",
      "epoch 10, loss 0.001751, train acc 0.847817, test acc 0.828700\n"
     ]
    }
   ],
   "source": [
    "image_size = 28\n",
    "class_num = 10\n",
    "device = 'cuda:0'\n",
    "net = SoftmaxNet(image_size, class_num).to(device)\n",
    "loss = nn.CrossEntropyLoss()\n",
    "opt = torch.optim.SGD(net.parameters(), lr=0.1)\n",
    "num_epochs = 10\n",
    "\n",
    "train_loss_list = []\n",
    "test_loss_list = []\n",
    "train_acc_list = []\n",
    "test_acc_list = []\n",
    "for epoch in range(num_epochs):\n",
    "    total_loss, total_acc, nums = 0.0, 0.0, 0\n",
    "    for train_data, train_label in train_iter:\n",
    "        train_data = train_data.to(device)\n",
    "        train_label = train_label.to(device)\n",
    "        train_pred = net(train_data)\n",
    "        l = loss(train_pred, train_label).sum()\n",
    "        train_loss_list.append(l.item())\n",
    "        opt.zero_grad()\n",
    "        l.backward()\n",
    "        opt.step()\n",
    "\n",
    "        total_loss += l.item()\n",
    "        total_acc += (train_pred.argmax(dim=1) == train_label).sum().item()\n",
    "        nums += train_label.shape[0] \n",
    "\n",
    "    test_acc, test_nums = 0.0, 0\n",
    "    for test_data, test_label in test_iter:\n",
    "        test_data = test_data.to(device)\n",
    "        test_label = test_label.to(device)\n",
    "        test_acc += (net(test_data).argmax(dim=1) == test_label).float().sum().item()\n",
    "        test_nums += test_label.shape[0]\n",
    "    test_acc = test_acc / test_nums\n",
    "    test_loss_list.append(total_loss / nums)\n",
    "    train_acc_list.append(total_acc / nums)\n",
    "    test_acc_list.append(test_acc)\n",
    "    print('epoch %d, loss %f, train acc %f, test acc %f' % (epoch + 1, total_loss / nums, total_acc / nums, test_acc))"
   ]
  },
  {
   "cell_type": "markdown",
   "metadata": {},
   "source": [
    "绘制训练损失图"
   ]
  },
  {
   "cell_type": "code",
   "execution_count": 173,
   "metadata": {},
   "outputs": [
    {
     "data": {
      "image/png": "[encoded data removed]",
      "text/plain": [
       "<Figure size 432x288 with 1 Axes>"
      ]
     },
     "metadata": {
      "needs_background": "light"
     },
     "output_type": "display_data"
    }
   ],
   "source": [
    "x = [i + 1 for i in range(len(train_loss_list))]\n",
    "y = train_loss_list\n",
    "l1 = plt.plot(x, y, 'r--', label='train_loss')\n",
    "\n",
    "plt.title('Training Loss')\n",
    "plt.xlabel('step')\n",
    "plt.ylabel('loss value')\n",
    "plt.show()"
   ]
  },
  {
   "cell_type": "markdown",
   "metadata": {},
   "source": [
    "绘制训练精度图"
   ]
  },
  {
   "cell_type": "code",
   "execution_count": 174,
   "metadata": {},
   "outputs": [
    {
     "data": {
      "image/png": "[encoded data removed]",
      "text/plain": [
       "<Figure size 432x288 with 1 Axes>"
      ]
     },
     "metadata": {
      "needs_background": "light"
     },
     "output_type": "display_data"
    }
   ],
   "source": [
    "x = [i + 1 for i in range(len(train_acc_list))]\n",
    "y = train_acc_list\n",
    "l1 = plt.plot(x, y, 'r--', label='train_acc')\n",
    "\n",
    "plt.title('Training Accuracy')\n",
    "plt.xlabel('epoch')\n",
    "plt.ylabel('accuracy')\n",
    "plt.show()"
   ]
  },
  {
   "cell_type": "markdown",
   "metadata": {},
   "source": [
    "绘制验证损失图"
   ]
  },
  {
   "cell_type": "code",
   "execution_count": 175,
   "metadata": {},
   "outputs": [
    {
     "data": {
      "image/png": "[encoded data removed]",
      "text/plain": [
       "<Figure size 432x288 with 1 Axes>"
      ]
     },
     "metadata": {
      "needs_background": "light"
     },
     "output_type": "display_data"
    }
   ],
   "source": [
    "x = [i + 1 for i in range(len(test_loss_list))]\n",
    "y = test_loss_list\n",
    "l1 = plt.plot(x, y, 'r--', label='test_loss')\n",
    "\n",
    "plt.title('Validation Loss')\n",
    "plt.xlabel('epoch')\n",
    "plt.ylabel('loss value')\n",
    "plt.show()"
   ]
  },
  {
   "cell_type": "markdown",
   "metadata": {},
   "source": [
    "绘制验证精度图"
   ]
  },
  {
   "cell_type": "code",
   "execution_count": 176,
   "metadata": {},
   "outputs": [
    {
     "data": {
      "image/png": "[encoded data removed]",
      "text/plain": [
       "<Figure size 432x288 with 1 Axes>"
      ]
     },
     "metadata": {
      "needs_background": "light"
     },
     "output_type": "display_data"
    }
   ],
   "source": [
    "x = [i + 1 for i in range(len(test_acc_list))]\n",
    "y = test_acc_list\n",
    "l1 = plt.plot(x, y, 'r--', label='test_acc')\n",
    "\n",
    "plt.title('Validation Accuracy')\n",
    "plt.xlabel('epoch')\n",
    "plt.ylabel('accuracy')\n",
    "plt.show()"
   ]
  }
 ],
 "metadata": {
  "kernelspec": {
   "display_name": "Python 3.8.8 ('base')",
   "language": "python",
   "name": "python3"
  },
  "language_info": {
   "codemirror_mode": {
    "name": "ipython",
    "version": 3
   },
   "file_extension": ".py",
   "mimetype": "text/x-python",
   "name": "python",
   "nbconvert_exporter": "python",
   "pygments_lexer": "ipython3",
   "version": "3.8.8"
  },
  "orig_nbformat": 4,
  "vscode": {
   "interpreter": {
    "hash": "bb47ef1ad79943d811bafa2fa84fcb47147f85a402b583945e5888afc6d949fa"
   }
  }
 },
 "nbformat": 4,
 "nbformat_minor": 2
}
