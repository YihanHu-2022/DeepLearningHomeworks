{
 "cells": [
  {
   "cell_type": "markdown",
   "metadata": {},
   "source": [
    "二、动手实现 logistic 回归"
   ]
  },
  {
   "cell_type": "code",
   "execution_count": 3,
   "metadata": {},
   "outputs": [],
   "source": [
    "#调用torch库\n",
    "import torch\n",
    "import torchvision\n",
    "import torchvision.transforms as transforms\n",
    "#调用numpy库\n",
    "import numpy as np\n",
    "#调用matplotlib库\n",
    "import matplotlib.pyplot as plt\n",
    "#调用random库\n",
    "import random"
   ]
  },
  {
   "cell_type": "markdown",
   "metadata": {},
   "source": [
    "人工数据集的构造"
   ]
  },
  {
   "cell_type": "code",
   "execution_count": 4,
   "metadata": {},
   "outputs": [],
   "source": [
    "n_data = torch.ones(50, 2) # 数据的基本形态\n",
    "x1 = torch.normal(2 * n_data, 1) # shape=(50, 2)\n",
    "y1 = torch.zeros(50) # 类型0 shape=(50, 1)\n",
    "x2 = torch.normal(-2 * n_data, 1) # shape=(50, 2)\n",
    "y2 = torch.ones(50) # 类型1 shape=(50, 1)\n",
    "# 注意 x, y 数据的数据形式一定要像下面一样 (torch.cat 是合并数据)\n",
    "features = torch.cat((x1, x2), 0).type(torch.FloatTensor)\n",
    "labels = torch.cat((y1, y2), 0).type(torch.FloatTensor)"
   ]
  },
  {
   "cell_type": "code",
   "execution_count": 5,
   "metadata": {},
   "outputs": [
    {
     "data": {
      "image/png": "[encoded data removed]",
      "text/plain": [
       "<Figure size 432x288 with 1 Axes>"
      ]
     },
     "metadata": {
      "needs_background": "light"
     },
     "output_type": "display_data"
    }
   ],
   "source": [
    "plt.scatter(features.data.numpy()[:, 0], features.data.numpy()[:, 1], c=labels.data.numpy(), s=100, lw=0, \n",
    "cmap='RdYlGn')\n",
    "plt.show()"
   ]
  },
  {
   "cell_type": "markdown",
   "metadata": {},
   "source": [
    "题目1. 要求动手从0实现 logistic 回归（只借助Tensor和Numpy相关的库）在人工构造的数据集上进\n",
    "行训练和测试，并从loss以及训练集上的准确率等多个角度对结果进行分析\n",
    "（可借助nn.BCELoss或nn.BCEWithLogitsLoss作为损失函数，从零实现二元交叉熵为选作）"
   ]
  },
  {
   "cell_type": "code",
   "execution_count": 6,
   "metadata": {},
   "outputs": [],
   "source": [
    "#使用课上给出的数据读取函数\n",
    "def data_iter(batch_size, features, labels):\n",
    "    num_examples = len(features)\n",
    "    indices = list(range(num_examples))\n",
    "    random.shuffle(indices) # 样本的读取顺序是随机的\n",
    "    for i in range(0, num_examples, batch_size):\n",
    "        j = torch.LongTensor(indices[i: min(i + batch_size, num_examples)]) # 最后一次可能不足一个batch\n",
    "        yield features.index_select(0, j), labels.index_select(0, j)"
   ]
  },
  {
   "cell_type": "code",
   "execution_count": 7,
   "metadata": {},
   "outputs": [],
   "source": [
    "#使用课上给出的优化函数进行参数的学习优化\n",
    "def sgd(params, lr, batch_size):\n",
    "    for param in params:\n",
    "        param.data -= lr * param.grad / batch_size"
   ]
  },
  {
   "cell_type": "code",
   "execution_count": 26,
   "metadata": {},
   "outputs": [],
   "source": [
    "# 损失函数使用torch提供的BCELoss, 以及手动实现的二元交叉熵损失\n",
    "Loss1 = torch.nn.BCELoss()\n",
    "\n",
    "def Loss2(y_hat, y):\n",
    "    y_hat = y_hat.unsqueeze(1)\n",
    "    y_hat = torch.cat((1-y_hat, y_hat), 1)\n",
    "    return - torch.log(y_hat.gather(1, y.view(-1, 1).to(torch.int64)))"
   ]
  },
  {
   "cell_type": "markdown",
   "metadata": {},
   "source": [
    "首先使用手动实现的Logistic回归模型进行实验"
   ]
  },
  {
   "cell_type": "code",
   "execution_count": 79,
   "metadata": {},
   "outputs": [],
   "source": [
    "#手动实现的Logistic回归模型\n",
    "class Logis:\n",
    "    def __init__(self, feature_channels, opt):\n",
    "        self.w = torch.tensor(np.random.normal(0, 0.01, (feature_channels, 1)), dtype=torch.float32)\n",
    "        self.b = torch.zeros(1, dtype=torch.float32)\n",
    "        self.w.requires_grad_(requires_grad=True)\n",
    "        self.b.requires_grad_(requires_grad=True) \n",
    "        \n",
    "        self.opt = opt\n",
    "\n",
    "    def forward(self, x):\n",
    "        y_hat = 1/(1 + torch.exp(-(torch.mm(x, self.w) + self.b))).squeeze(1)\n",
    "        return y_hat\n",
    "\n",
    "    def learn(self, lr, bs):\n",
    "        self.opt([self.w, self.b], lr, bs)\n",
    "        \n",
    "    def reset_grad(self):\n",
    "        self.w.grad.data.zero_()\n",
    "        self.b.grad.data.zero_()"
   ]
  },
  {
   "cell_type": "code",
   "execution_count": 63,
   "metadata": {},
   "outputs": [],
   "source": [
    "#手动封装准确率计算函数\n",
    "def evaluate(y_hat, y):\n",
    "    y_hat = y_hat.unsqueeze(1)\n",
    "    y_hat = torch.cat((1-y_hat, y_hat), 1)\n",
    "    y_hat = torch.argmax(y_hat, 1)\n",
    "    return (len(y_hat) - torch.sum(torch.abs(y_hat-y), dim=0)) / len(y_hat)"
   ]
  },
  {
   "cell_type": "code",
   "execution_count": 80,
   "metadata": {},
   "outputs": [
    {
     "name": "stdout",
     "output_type": "stream",
     "text": [
      "epoch 1, acc 1.000000, loss 0.347424\n",
      "epoch 2, acc 1.000000, loss 0.235070\n",
      "epoch 3, acc 1.000000, loss 0.180906\n",
      "epoch 4, acc 1.000000, loss 0.149366\n",
      "epoch 5, acc 1.000000, loss 0.128336\n",
      "epoch 6, acc 1.000000, loss 0.113290\n",
      "epoch 7, acc 1.000000, loss 0.101908\n",
      "epoch 8, acc 1.000000, loss 0.092994\n",
      "epoch 9, acc 1.000000, loss 0.085778\n",
      "epoch 10, acc 1.000000, loss 0.079797\n",
      "epoch 11, acc 1.000000, loss 0.074758\n",
      "epoch 12, acc 1.000000, loss 0.070443\n",
      "epoch 13, acc 1.000000, loss 0.066695\n",
      "epoch 14, acc 1.000000, loss 0.063414\n",
      "epoch 15, acc 1.000000, loss 0.060507\n",
      "epoch 16, acc 1.000000, loss 0.057914\n",
      "epoch 17, acc 1.000000, loss 0.055579\n",
      "epoch 18, acc 1.000000, loss 0.053470\n",
      "epoch 19, acc 1.000000, loss 0.051550\n",
      "epoch 20, acc 1.000000, loss 0.049795\n",
      "epoch 21, acc 1.000000, loss 0.048185\n",
      "epoch 22, acc 1.000000, loss 0.046698\n",
      "epoch 23, acc 1.000000, loss 0.045322\n",
      "epoch 24, acc 1.000000, loss 0.044045\n",
      "epoch 25, acc 1.000000, loss 0.042854\n",
      "epoch 26, acc 1.000000, loss 0.041742\n",
      "epoch 27, acc 1.000000, loss 0.040700\n",
      "epoch 28, acc 1.000000, loss 0.039722\n",
      "epoch 29, acc 1.000000, loss 0.038801\n",
      "epoch 30, acc 1.000000, loss 0.037932\n",
      "epoch 31, acc 1.000000, loss 0.037111\n",
      "epoch 32, acc 1.000000, loss 0.036334\n",
      "epoch 33, acc 1.000000, loss 0.035597\n",
      "epoch 34, acc 1.000000, loss 0.034896\n",
      "epoch 35, acc 1.000000, loss 0.034230\n",
      "epoch 36, acc 1.000000, loss 0.033594\n",
      "epoch 37, acc 1.000000, loss 0.032988\n",
      "epoch 38, acc 1.000000, loss 0.032409\n",
      "epoch 39, acc 1.000000, loss 0.031856\n",
      "epoch 40, acc 1.000000, loss 0.031325\n",
      "epoch 41, acc 1.000000, loss 0.030817\n",
      "epoch 42, acc 1.000000, loss 0.030328\n",
      "epoch 43, acc 1.000000, loss 0.029860\n",
      "epoch 44, acc 1.000000, loss 0.029409\n",
      "epoch 45, acc 1.000000, loss 0.028975\n",
      "epoch 46, acc 1.000000, loss 0.028557\n",
      "epoch 47, acc 1.000000, loss 0.028153\n",
      "epoch 48, acc 1.000000, loss 0.027765\n",
      "epoch 49, acc 1.000000, loss 0.027389\n",
      "epoch 50, acc 1.000000, loss 0.027027\n",
      "epoch 51, acc 1.000000, loss 0.026676\n",
      "epoch 52, acc 1.000000, loss 0.026337\n",
      "epoch 53, acc 1.000000, loss 0.026008\n",
      "epoch 54, acc 1.000000, loss 0.025690\n",
      "epoch 55, acc 1.000000, loss 0.025381\n",
      "epoch 56, acc 1.000000, loss 0.025082\n",
      "epoch 57, acc 1.000000, loss 0.024791\n",
      "epoch 58, acc 1.000000, loss 0.024509\n",
      "epoch 59, acc 1.000000, loss 0.024235\n",
      "epoch 60, acc 1.000000, loss 0.023969\n",
      "epoch 61, acc 1.000000, loss 0.023710\n",
      "epoch 62, acc 1.000000, loss 0.023458\n",
      "epoch 63, acc 1.000000, loss 0.023213\n",
      "epoch 64, acc 1.000000, loss 0.022974\n",
      "epoch 65, acc 1.000000, loss 0.022741\n",
      "epoch 66, acc 1.000000, loss 0.022515\n",
      "epoch 67, acc 1.000000, loss 0.022294\n",
      "epoch 68, acc 1.000000, loss 0.022078\n",
      "epoch 69, acc 1.000000, loss 0.021868\n",
      "epoch 70, acc 1.000000, loss 0.021663\n",
      "epoch 71, acc 1.000000, loss 0.021463\n",
      "epoch 72, acc 1.000000, loss 0.021267\n",
      "epoch 73, acc 1.000000, loss 0.021076\n",
      "epoch 74, acc 1.000000, loss 0.020889\n",
      "epoch 75, acc 1.000000, loss 0.020706\n",
      "epoch 76, acc 1.000000, loss 0.020527\n",
      "epoch 77, acc 1.000000, loss 0.020353\n",
      "epoch 78, acc 1.000000, loss 0.020182\n",
      "epoch 79, acc 1.000000, loss 0.020014\n",
      "epoch 80, acc 1.000000, loss 0.019850\n",
      "epoch 81, acc 1.000000, loss 0.019690\n",
      "epoch 82, acc 1.000000, loss 0.019533\n",
      "epoch 83, acc 1.000000, loss 0.019379\n",
      "epoch 84, acc 1.000000, loss 0.019228\n",
      "epoch 85, acc 1.000000, loss 0.019080\n",
      "epoch 86, acc 1.000000, loss 0.018935\n",
      "epoch 87, acc 1.000000, loss 0.018792\n",
      "epoch 88, acc 1.000000, loss 0.018653\n",
      "epoch 89, acc 1.000000, loss 0.018516\n",
      "epoch 90, acc 1.000000, loss 0.018381\n",
      "epoch 91, acc 1.000000, loss 0.018249\n",
      "epoch 92, acc 1.000000, loss 0.018120\n",
      "epoch 93, acc 1.000000, loss 0.017993\n",
      "epoch 94, acc 1.000000, loss 0.017868\n",
      "epoch 95, acc 1.000000, loss 0.017745\n",
      "epoch 96, acc 1.000000, loss 0.017624\n",
      "epoch 97, acc 1.000000, loss 0.017506\n",
      "epoch 98, acc 1.000000, loss 0.017389\n",
      "epoch 99, acc 1.000000, loss 0.017275\n",
      "epoch 100, acc 1.000000, loss 0.017162\n"
     ]
    }
   ],
   "source": [
    "lr = 0.03\n",
    "num_epochs = 100\n",
    "batch_size = 10\n",
    "opt = sgd\n",
    "net = Logis(2, sgd)\n",
    "loss = Loss2\n",
    "\n",
    "for epoch in range(num_epochs): # 训练模型一共需要num_epochs个迭代周期\n",
    "    # 在每一个迭代周期中，会使用训练数据集中所有样本一次\n",
    "    for X, y in data_iter(batch_size, features, labels): # x和y分别是小批量样本的特征和标签\n",
    "        l = loss(net.forward(X), y).sum() # l是有关小批量X和y的损失\n",
    "        l.backward() # 小批量的损失对模型参数求梯度\n",
    "        net.learn(lr, batch_size)\n",
    "        net.reset_grad()\n",
    "        train_l = loss(net.forward(features), labels)\n",
    "    acc = evaluate(net.forward(features), labels)\n",
    "    print('epoch %d, acc %f, loss %f' % (epoch + 1, acc.item(), train_l.mean().item()))"
   ]
  },
  {
   "cell_type": "code",
   "execution_count": 81,
   "metadata": {},
   "outputs": [
    {
     "name": "stdout",
     "output_type": "stream",
     "text": [
      "-1.6255441904067993 -1.4737021923065186 -0.04405731335282326\n"
     ]
    },
    {
     "data": {
      "image/png": "[encoded data removed]",
      "text/plain": [
       "<Figure size 432x288 with 1 Axes>"
      ]
     },
     "metadata": {
      "needs_background": "light"
     },
     "output_type": "display_data"
    }
   ],
   "source": [
    "# 结果可视化\n",
    "w0, w1 = net.w[:]\n",
    "w0 = w0.item()\n",
    "w1 = w1.item()\n",
    "b = net.b.item()\n",
    "print(w0, w1, b)\n",
    "plot_x = np.arange(-7, 7, 0.1)\n",
    "plot_y = (-w0 * plot_x - b) / w1\n",
    "plt.scatter(features.data.numpy()[:, 0], features.data.numpy()[:, 1], c=labels.data.numpy(), s=100, lw=0, cmap='RdYlGn')\n",
    "plt.plot(plot_x, plot_y)\n",
    "plt.show()"
   ]
  },
  {
   "cell_type": "markdown",
   "metadata": {},
   "source": [
    "其次利用 torch.nn 实现 logistic 回归"
   ]
  },
  {
   "cell_type": "code",
   "execution_count": 82,
   "metadata": {},
   "outputs": [],
   "source": [
    "#利用torch.nn内部封装的层实现的Logistic回归模型\n",
    "class Logis(torch.nn.Module):\n",
    "    def __init__(self, feature_channels):\n",
    "        super(Logis, self).__init__()\n",
    "        self.linear = torch.nn.Linear(feature_channels, 1)\n",
    "        self.active = torch.nn.Sigmoid()\n",
    "\n",
    "    def forward(self, x):\n",
    "        x = self.linear(x)\n",
    "        y_hat = self.active(x)\n",
    "        return y_hat.squeeze(1)"
   ]
  },
  {
   "cell_type": "code",
   "execution_count": 83,
   "metadata": {},
   "outputs": [
    {
     "name": "stdout",
     "output_type": "stream",
     "text": [
      "epoch 1, acc 0.990000, loss 0.098498\n",
      "epoch 2, acc 1.000000, loss 0.043246\n",
      "epoch 3, acc 1.000000, loss 0.028271\n",
      "epoch 4, acc 1.000000, loss 0.022309\n",
      "epoch 5, acc 1.000000, loss 0.019524\n",
      "epoch 6, acc 1.000000, loss 0.017701\n",
      "epoch 7, acc 1.000000, loss 0.016405\n",
      "epoch 8, acc 1.000000, loss 0.015271\n",
      "epoch 9, acc 1.000000, loss 0.014413\n",
      "epoch 10, acc 1.000000, loss 0.013683\n",
      "epoch 11, acc 1.000000, loss 0.013042\n",
      "epoch 12, acc 1.000000, loss 0.012469\n",
      "epoch 13, acc 1.000000, loss 0.011935\n",
      "epoch 14, acc 1.000000, loss 0.011469\n",
      "epoch 15, acc 1.000000, loss 0.011087\n",
      "epoch 16, acc 1.000000, loss 0.010749\n",
      "epoch 17, acc 1.000000, loss 0.010381\n",
      "epoch 18, acc 1.000000, loss 0.010064\n",
      "epoch 19, acc 1.000000, loss 0.009752\n",
      "epoch 20, acc 1.000000, loss 0.009495\n",
      "epoch 21, acc 1.000000, loss 0.009247\n",
      "epoch 22, acc 1.000000, loss 0.009011\n",
      "epoch 23, acc 1.000000, loss 0.008801\n",
      "epoch 24, acc 1.000000, loss 0.008592\n",
      "epoch 25, acc 1.000000, loss 0.008394\n",
      "epoch 26, acc 1.000000, loss 0.008219\n",
      "epoch 27, acc 1.000000, loss 0.008062\n",
      "epoch 28, acc 1.000000, loss 0.007902\n",
      "epoch 29, acc 1.000000, loss 0.007749\n",
      "epoch 30, acc 1.000000, loss 0.007594\n",
      "epoch 31, acc 1.000000, loss 0.007461\n",
      "epoch 32, acc 1.000000, loss 0.007323\n",
      "epoch 33, acc 1.000000, loss 0.007195\n",
      "epoch 34, acc 1.000000, loss 0.007078\n",
      "epoch 35, acc 1.000000, loss 0.006962\n",
      "epoch 36, acc 1.000000, loss 0.006852\n",
      "epoch 37, acc 1.000000, loss 0.006740\n",
      "epoch 38, acc 1.000000, loss 0.006636\n",
      "epoch 39, acc 1.000000, loss 0.006536\n",
      "epoch 40, acc 1.000000, loss 0.006448\n",
      "epoch 41, acc 1.000000, loss 0.006357\n",
      "epoch 42, acc 1.000000, loss 0.006257\n",
      "epoch 43, acc 1.000000, loss 0.006173\n",
      "epoch 44, acc 1.000000, loss 0.006095\n",
      "epoch 45, acc 1.000000, loss 0.006012\n",
      "epoch 46, acc 1.000000, loss 0.005933\n",
      "epoch 47, acc 1.000000, loss 0.005862\n",
      "epoch 48, acc 1.000000, loss 0.005794\n",
      "epoch 49, acc 1.000000, loss 0.005729\n",
      "epoch 50, acc 1.000000, loss 0.005662\n",
      "epoch 51, acc 1.000000, loss 0.005593\n",
      "epoch 52, acc 1.000000, loss 0.005529\n",
      "epoch 53, acc 1.000000, loss 0.005467\n",
      "epoch 54, acc 1.000000, loss 0.005409\n",
      "epoch 55, acc 1.000000, loss 0.005349\n",
      "epoch 56, acc 1.000000, loss 0.005293\n",
      "epoch 57, acc 1.000000, loss 0.005241\n",
      "epoch 58, acc 1.000000, loss 0.005188\n",
      "epoch 59, acc 1.000000, loss 0.005130\n",
      "epoch 60, acc 1.000000, loss 0.005081\n",
      "epoch 61, acc 1.000000, loss 0.005034\n",
      "epoch 62, acc 1.000000, loss 0.004981\n",
      "epoch 63, acc 1.000000, loss 0.004931\n",
      "epoch 64, acc 1.000000, loss 0.004893\n",
      "epoch 65, acc 1.000000, loss 0.004843\n",
      "epoch 66, acc 1.000000, loss 0.004798\n",
      "epoch 67, acc 1.000000, loss 0.004758\n",
      "epoch 68, acc 1.000000, loss 0.004714\n",
      "epoch 69, acc 1.000000, loss 0.004678\n",
      "epoch 70, acc 1.000000, loss 0.004639\n",
      "epoch 71, acc 1.000000, loss 0.004599\n",
      "epoch 72, acc 1.000000, loss 0.004557\n",
      "epoch 73, acc 1.000000, loss 0.004521\n",
      "epoch 74, acc 1.000000, loss 0.004483\n",
      "epoch 75, acc 1.000000, loss 0.004447\n",
      "epoch 76, acc 1.000000, loss 0.004410\n",
      "epoch 77, acc 1.000000, loss 0.004377\n",
      "epoch 78, acc 1.000000, loss 0.004342\n",
      "epoch 79, acc 1.000000, loss 0.004307\n",
      "epoch 80, acc 1.000000, loss 0.004278\n",
      "epoch 81, acc 1.000000, loss 0.004245\n",
      "epoch 82, acc 1.000000, loss 0.004215\n",
      "epoch 83, acc 1.000000, loss 0.004182\n",
      "epoch 84, acc 1.000000, loss 0.004150\n",
      "epoch 85, acc 1.000000, loss 0.004123\n",
      "epoch 86, acc 1.000000, loss 0.004091\n",
      "epoch 87, acc 1.000000, loss 0.004062\n",
      "epoch 88, acc 1.000000, loss 0.004033\n",
      "epoch 89, acc 1.000000, loss 0.004003\n",
      "epoch 90, acc 1.000000, loss 0.003978\n",
      "epoch 91, acc 1.000000, loss 0.003951\n",
      "epoch 92, acc 1.000000, loss 0.003927\n",
      "epoch 93, acc 1.000000, loss 0.003902\n",
      "epoch 94, acc 1.000000, loss 0.003874\n",
      "epoch 95, acc 1.000000, loss 0.003850\n",
      "epoch 96, acc 1.000000, loss 0.003824\n",
      "epoch 97, acc 1.000000, loss 0.003801\n",
      "epoch 98, acc 1.000000, loss 0.003777\n",
      "epoch 99, acc 1.000000, loss 0.003753\n",
      "epoch 100, acc 1.000000, loss 0.003729\n"
     ]
    }
   ],
   "source": [
    "lr = 0.03\n",
    "num_epochs = 100\n",
    "batch_size = 10\n",
    "net = Logis(2)\n",
    "opt = torch.optim.SGD(net.parameters(), lr=lr, momentum=0.9)\n",
    "loss = Loss1\n",
    "\n",
    "for epoch in range(num_epochs): # 训练模型一共需要num_epochs个迭代周期\n",
    "    # 在每一个迭代周期中，会使用训练数据集中所有样本一次\n",
    "    for X, y in data_iter(batch_size, features, labels): # x和y分别是小批量样本的特征和标签\n",
    "        l = loss(net.forward(X), y).sum() # l是有关小批量X和y的损失\n",
    "        opt.zero_grad()\n",
    "        l.backward() # 小批量的损失对模型参数求梯度\n",
    "        opt.step()\n",
    "        train_l = loss(net.forward(features), labels)\n",
    "    acc = evaluate(net.forward(features), labels)\n",
    "    print('epoch %d, acc %f, loss %f' % (epoch + 1, acc.item(), train_l.mean().item()))"
   ]
  },
  {
   "cell_type": "code",
   "execution_count": 85,
   "metadata": {},
   "outputs": [
    {
     "name": "stdout",
     "output_type": "stream",
     "text": [
      "-2.93290638923645 -2.566174030303955 -0.053373850882053375\n"
     ]
    },
    {
     "data": {
      "image/png": "[encoded data removed]",
      "text/plain": [
       "<Figure size 432x288 with 1 Axes>"
      ]
     },
     "metadata": {
      "needs_background": "light"
     },
     "output_type": "display_data"
    }
   ],
   "source": [
    "# 结果可视化\n",
    "w0, w1 = net.linear.weight[0]\n",
    "w0 = w0.item()\n",
    "w1 = w1.item()\n",
    "b = net.linear.bias.item()\n",
    "print(w0, w1, b)\n",
    "plot_x = np.arange(-7, 7, 0.1)\n",
    "plot_y = (-w0 * plot_x - b) / w1\n",
    "plt.scatter(features.data.numpy()[:, 0], features.data.numpy()[:, 1], c=labels.data.numpy(), s=100, lw=0, cmap='RdYlGn')\n",
    "plt.plot(plot_x, plot_y)\n",
    "plt.show()"
   ]
  }
 ],
 "metadata": {
  "kernelspec": {
   "display_name": "Python 3.9.7 ('base')",
   "language": "python",
   "name": "python3"
  },
  "language_info": {
   "codemirror_mode": {
    "name": "ipython",
    "version": 3
   },
   "file_extension": ".py",
   "mimetype": "text/x-python",
   "name": "python",
   "nbconvert_exporter": "python",
   "pygments_lexer": "ipython3",
   "version": "3.8.8"
  },
  "orig_nbformat": 4,
  "vscode": {
   "interpreter": {
    "hash": "bb47ef1ad79943d811bafa2fa84fcb47147f85a402b583945e5888afc6d949fa"
   }
  }
 },
 "nbformat": 4,
 "nbformat_minor": 2
}
