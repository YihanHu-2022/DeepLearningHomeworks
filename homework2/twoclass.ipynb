{
 "cells": [
  {
   "cell_type": "code",
   "execution_count": 2,
   "metadata": {},
   "outputs": [],
   "source": [
    "#调用torch库\n",
    "import torch\n",
    "import torchvision\n",
    "import torchvision.transforms as transforms\n",
    "\n",
    "import torch.nn as nn\n",
    "import torch.nn.functional as F\n",
    "#调用numpy库\n",
    "import numpy as np\n",
    "#调用matplotlib库\n",
    "import matplotlib.pyplot as plt\n",
    "#调用random库\n",
    "import random"
   ]
  },
  {
   "cell_type": "markdown",
   "metadata": {},
   "source": [
    "按要求生成二分类模型训练数据与验证数据"
   ]
  },
  {
   "cell_type": "code",
   "execution_count": 3,
   "metadata": {},
   "outputs": [],
   "source": [
    "n_data = torch.zeros(10000, 200)\n",
    "X1 = torch.normal(mean=n_data + 1, std=n_data + 0.01)\n",
    "Y1 = torch.zeros(10000, 1)\n",
    "\n",
    "X2 = torch.normal(mean=n_data - 1, std=n_data + 0.01)\n",
    "Y2 = torch.ones(10000, 1)\n",
    "\n",
    "x_train = torch.cat([X1[:7000], X2[:7000]], dim=0)\n",
    "x_test = torch.cat([X1[7000:], X2[7000:]], dim=0)\n",
    "y_train = torch.cat([Y1[:7000], Y2[:7000]], dim=0)\n",
    "y_test = torch.cat([Y1[7000:], Y2[7000:]], dim=0)"
   ]
  },
  {
   "cell_type": "code",
   "execution_count": 4,
   "metadata": {},
   "outputs": [
    {
     "name": "stdout",
     "output_type": "stream",
     "text": [
      "torch.Size([14000, 200]) torch.Size([6000, 200])\n",
      "torch.Size([14000, 1]) torch.Size([6000, 1])\n"
     ]
    }
   ],
   "source": [
    "print(x_train.shape, x_test.shape)\n",
    "print(y_train.shape, y_test.shape)"
   ]
  },
  {
   "cell_type": "code",
   "execution_count": 5,
   "metadata": {},
   "outputs": [],
   "source": [
    "#使用课上给出的数据读取函数\n",
    "def data_iter(batch_size, features, labels):\n",
    "    num_examples = len(features)\n",
    "    indices = list(range(num_examples))\n",
    "    random.shuffle(indices) # 样本的读取顺序是随机的\n",
    "    for i in range(0, num_examples, batch_size):\n",
    "        j = torch.LongTensor(indices[i: min(i + batch_size, num_examples)]) # 最后一次可能不足一个batch\n",
    "        yield features.index_select(0, j), labels.index_select(0, j)"
   ]
  },
  {
   "cell_type": "markdown",
   "metadata": {},
   "source": [
    "手动实现的前馈神经网络"
   ]
  },
  {
   "cell_type": "code",
   "execution_count": 6,
   "metadata": {},
   "outputs": [],
   "source": [
    "# 使用课上给出的优化函数进行参数的学习优化\n",
    "def sgd(params, lr, batch_size):\n",
    "    for param in params:\n",
    "        param.data -= lr * param.grad / batch_size"
   ]
  },
  {
   "cell_type": "code",
   "execution_count": 7,
   "metadata": {},
   "outputs": [],
   "source": [
    "class Feedforward_twoclass:\n",
    "    def __init__(self, feature_dim, opt, device, hidden=100):\n",
    "        self.w_in = torch.tensor(np.random.normal(0, 0.01, (feature_dim, hidden)), dtype=torch.float32).to(device)\n",
    "        self.b_in = torch.zeros(hidden, dtype=torch.float32).to(device)\n",
    "        self.w_in.requires_grad_(requires_grad=True)\n",
    "        self.b_in.requires_grad_(requires_grad=True) \n",
    "\n",
    "        self.w_out = torch.tensor(np.random.normal(0, 0.01, (hidden, 1)), dtype=torch.float32).to(device)\n",
    "        self.b_out = torch.zeros(1, dtype=torch.float32).to(device)\n",
    "        self.w_out.requires_grad_(requires_grad=True)\n",
    "        self.b_out.requires_grad_(requires_grad=True) \n",
    "\n",
    "        self.opt = opt\n",
    "\n",
    "    def forward(self, x):\n",
    "        x = torch.matmul(x, self.w_in) + self.b_in\n",
    "        y_hat = torch.matmul(x, self.w_out) + self.b_out\n",
    "        return y_hat\n",
    "\n",
    "    def learn(self, lr, bs):\n",
    "        self.opt([self.w_in, self.b_in, self.w_out, self.b_out], lr, bs)\n",
    "\n",
    "    def reset_grad(self):\n",
    "        self.w_in.grad.data.zero_()\n",
    "        self.b_in.grad.data.zero_()\n",
    "        self.w_out.grad.data.zero_()\n",
    "        self.b_out.grad.data.zero_()"
   ]
  },
  {
   "cell_type": "code",
   "execution_count": 8,
   "metadata": {},
   "outputs": [
    {
     "ename": "",
     "evalue": "",
     "output_type": "error",
     "traceback": [
      "\u001b[1;31mCanceled future for execute_request message before replies were done"
     ]
    },
    {
     "ename": "",
     "evalue": "",
     "output_type": "error",
     "traceback": [
      "\u001b[1;31mThe Kernel crashed while executing code in the the current cell or a previous cell. Please review the code in the cell(s) to identify a possible cause of the failure. Click <a href='https://aka.ms/vscodeJupyterKernelCrash'>here</a> for more info. View Jupyter <a href='command:jupyter.viewOutput'>log</a> for further details."
     ]
    }
   ],
   "source": [
    "epoch_num = 30\n",
    "lr = 0.03\n",
    "feature_dim = 200\n",
    "device = 'cuda:0'\n",
    "opt = sgd\n",
    "loss = torch.nn.BCELoss()\n",
    "batch_size = 128\n",
    "model = Feedforward_twoclass(feature_dim, sgd, device)\n",
    "train_loss_list = []\n",
    "test_loss_list = []"
   ]
  },
  {
   "cell_type": "code",
   "execution_count": null,
   "metadata": {},
   "outputs": [
    {
     "ename": "NameError",
     "evalue": "name 'epoch_num' is not defined",
     "output_type": "error",
     "traceback": [
      "\u001b[0;31m---------------------------------------------------------------------------\u001b[0m",
      "\u001b[0;31mNameError\u001b[0m                                 Traceback (most recent call last)",
      "\u001b[0;32m<ipython-input-1-431a6fc310c8>\u001b[0m in \u001b[0;36m<module>\u001b[0;34m\u001b[0m\n\u001b[0;32m----> 1\u001b[0;31m \u001b[0;32mfor\u001b[0m \u001b[0mepoch\u001b[0m \u001b[0;32min\u001b[0m \u001b[0mrange\u001b[0m\u001b[0;34m(\u001b[0m\u001b[0mepoch_num\u001b[0m\u001b[0;34m)\u001b[0m\u001b[0;34m:\u001b[0m\u001b[0;34m\u001b[0m\u001b[0;34m\u001b[0m\u001b[0m\n\u001b[0m\u001b[1;32m      2\u001b[0m     \u001b[0;32mfor\u001b[0m \u001b[0mx\u001b[0m\u001b[0;34m,\u001b[0m \u001b[0my\u001b[0m \u001b[0;32min\u001b[0m \u001b[0mdata_iter\u001b[0m\u001b[0;34m(\u001b[0m\u001b[0mbatch_size\u001b[0m\u001b[0;34m,\u001b[0m \u001b[0mx_train\u001b[0m\u001b[0;34m,\u001b[0m \u001b[0my_train\u001b[0m\u001b[0;34m)\u001b[0m\u001b[0;34m:\u001b[0m\u001b[0;34m\u001b[0m\u001b[0;34m\u001b[0m\u001b[0m\n\u001b[1;32m      3\u001b[0m         \u001b[0mprint\u001b[0m\u001b[0;34m(\u001b[0m\u001b[0mdevice\u001b[0m\u001b[0;34m)\u001b[0m\u001b[0;34m\u001b[0m\u001b[0;34m\u001b[0m\u001b[0m\n\u001b[1;32m      4\u001b[0m         \u001b[0mx\u001b[0m\u001b[0;34m,\u001b[0m \u001b[0my\u001b[0m \u001b[0;34m=\u001b[0m \u001b[0mx\u001b[0m\u001b[0;34m.\u001b[0m\u001b[0mto\u001b[0m\u001b[0;34m(\u001b[0m\u001b[0mdevice\u001b[0m\u001b[0;34m)\u001b[0m\u001b[0;34m,\u001b[0m \u001b[0my\u001b[0m\u001b[0;34m.\u001b[0m\u001b[0mto\u001b[0m\u001b[0;34m(\u001b[0m\u001b[0mdevice\u001b[0m\u001b[0;34m)\u001b[0m\u001b[0;34m\u001b[0m\u001b[0;34m\u001b[0m\u001b[0m\n\u001b[1;32m      5\u001b[0m         \u001b[0my_hat\u001b[0m \u001b[0;34m=\u001b[0m \u001b[0mmodel\u001b[0m\u001b[0;34m.\u001b[0m\u001b[0mforward\u001b[0m\u001b[0;34m(\u001b[0m\u001b[0mx\u001b[0m\u001b[0;34m)\u001b[0m\u001b[0;34m.\u001b[0m\u001b[0msqueeze\u001b[0m\u001b[0;34m(\u001b[0m\u001b[0;36m1\u001b[0m\u001b[0;34m)\u001b[0m\u001b[0;34m\u001b[0m\u001b[0;34m\u001b[0m\u001b[0m\n",
      "\u001b[0;31mNameError\u001b[0m: name 'epoch_num' is not defined"
     ]
    }
   ],
   "source": [
    "for epoch in range(epoch_num):\n",
    "    for x, y in data_iter(batch_size, x_train, y_train):\n",
    "        print(device)\n",
    "        x, y = x.to(device), y.to(device)\n",
    "        y_hat = model.forward(x).squeeze(1)\n",
    "        y = y.squeeze(1)\n",
    "        print(y_hat.device, y.device)\n",
    "        l = loss(y_hat, y).sum()\n",
    "        l.backward()\n",
    "        model.learn(lr, batch_size)\n",
    "        model.reset_grad()\n",
    "        train_loss_list.append(l.item())\n",
    "        print(l.item())\n",
    "    \n",
    "    # with torch.no_grad():\n",
    "    #     total_loss = 0\n",
    "    #     counter = 0\n",
    "    #     for x, y in data_iter(batch_size, x_train, y_train):\n",
    "    #         test_x, test_y = x.to(device), y.to(device)\n",
    "    #         test_pred = model.forward(test_x)\n",
    "\n",
    "    #         l = loss(test_pred, test_y).sum()\n",
    "    #         total_loss += l\n",
    "    #         counter += 1\n",
    "    #     test_loss_list.append(total_loss.item())\n",
    "    #     print('epoch: %d, total loss: %f'%(epoch + 1, total_loss / (counter+1)))"
   ]
  }
 ],
 "metadata": {
  "kernelspec": {
   "display_name": "Python 3.8.8 ('base')",
   "language": "python",
   "name": "python3"
  },
  "language_info": {
   "codemirror_mode": {
    "name": "ipython",
    "version": 3
   },
   "file_extension": ".py",
   "mimetype": "text/x-python",
   "name": "python",
   "nbconvert_exporter": "python",
   "pygments_lexer": "ipython3",
   "version": "3.8.8"
  },
  "orig_nbformat": 4,
  "vscode": {
   "interpreter": {
    "hash": "bb47ef1ad79943d811bafa2fa84fcb47147f85a402b583945e5888afc6d949fa"
   }
  }
 },
 "nbformat": 4,
 "nbformat_minor": 2
}
