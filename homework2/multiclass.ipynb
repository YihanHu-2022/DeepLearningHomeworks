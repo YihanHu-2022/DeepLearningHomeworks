{
 "cells": [
  {
   "cell_type": "code",
   "execution_count": 1,
   "metadata": {},
   "outputs": [],
   "source": [
    "#调用torch库\n",
    "import torch\n",
    "import torchvision\n",
    "import torchvision.transforms as transforms\n",
    "\n",
    "import torch.nn as nn\n",
    "import torch.nn.functional as F\n",
    "#调用numpy库\n",
    "import numpy as np\n",
    "#调用matplotlib库\n",
    "import matplotlib.pyplot as plt\n",
    "#调用random库\n",
    "import random"
   ]
  },
  {
   "cell_type": "markdown",
   "metadata": {},
   "source": [
    "调用MNIST数据集"
   ]
  },
  {
   "cell_type": "code",
   "execution_count": 2,
   "metadata": {},
   "outputs": [],
   "source": [
    "train_dataset = torchvision.datasets.MNIST(root=\"../Datasets/MNIST\", train=True, transform=transforms.ToTensor(), download=True)\n",
    "test_dataset = torchvision.datasets.MNIST(root=\"../Datasets/MNIST\", train=False, transform=transforms.ToTensor())"
   ]
  },
  {
   "cell_type": "code",
   "execution_count": 3,
   "metadata": {},
   "outputs": [],
   "source": [
    "num_workers = 16\n",
    "batch_size = 32\n",
    "train_loader = torch.utils.data.DataLoader(train_dataset, batch_size=batch_size, shuffle=True, num_workers=num_workers)\n",
    "test_loader = torch.utils.data.DataLoader(test_dataset, batch_size=batch_size, shuffle=False, num_workers=num_workers)"
   ]
  },
  {
   "cell_type": "markdown",
   "metadata": {},
   "source": [
    "手动实现的前馈神经网络模型（解决多分类问题）"
   ]
  },
  {
   "cell_type": "code",
   "execution_count": 4,
   "metadata": {},
   "outputs": [],
   "source": [
    "#使用课上给出的优化函数进行参数的学习优化\n",
    "def sgd(params, lr, batch_size):\n",
    "    for param in params:\n",
    "        param.data -= lr * param.grad / batch_size\n",
    "\n",
    "\n",
    "# 损失函数使用手动实现的交叉熵损失函数\n",
    "# y_hat为模型的预测值，而y为真实标签\n",
    "def Loss(y_hat, y):\n",
    "    return - torch.log(y_hat[range(len(y_hat)), y])"
   ]
  },
  {
   "cell_type": "code",
   "execution_count": 51,
   "metadata": {},
   "outputs": [],
   "source": [
    "class Feedforward_multiclass:\n",
    "    def __init__(self, image_size, class_num, opt, device, hidden=100):\n",
    "        self.w_in = torch.tensor(np.random.normal(0, 0.01, (image_size * image_size, hidden)), dtype=torch.float32).to(device)\n",
    "        self.b_in = torch.zeros(hidden, dtype=torch.float32).to(device)\n",
    "        self.w_in.requires_grad_(requires_grad=True)\n",
    "        self.b_in.requires_grad_(requires_grad=True) \n",
    "\n",
    "        self.w_out = torch.tensor(np.random.normal(0, 0.01, (hidden, class_num)), dtype=torch.float32).to(device)\n",
    "        self.b_out = torch.zeros(class_num, dtype=torch.float32).to(device)\n",
    "        self.w_out.requires_grad_(requires_grad=True)\n",
    "        self.b_out.requires_grad_(requires_grad=True) \n",
    "\n",
    "        self.opt = opt\n",
    "\n",
    "    def relu(self, x):\n",
    "        x[x < 0.] = 0.\n",
    "        return x \n",
    "\n",
    "    def softmax(self, x):\n",
    "        x_exp = torch.exp(x)\n",
    "        partition = x_exp.sum(1, keepdim=True)\n",
    "        return x_exp / partition\n",
    "\n",
    "\n",
    "    def forward(self, x):\n",
    "        x = torch.matmul(x, self.w_in) + self.b_in\n",
    "        x = self.relu(x)\n",
    "        x = torch.matmul(x, self.w_out) + self.b_out\n",
    "        return self.softmax(x)\n",
    "\n",
    "    def learn(self, lr, bs):\n",
    "        self.opt([self.w_in, self.b_in, self.w_out, self.b_out], lr, bs)\n",
    "\n",
    "    def reset_grad(self):\n",
    "        self.w_in.grad.data.zero_()\n",
    "        self.b_in.grad.data.zero_()\n",
    "        self.w_out.grad.data.zero_()\n",
    "        self.b_out.grad.data.zero_()"
   ]
  },
  {
   "cell_type": "code",
   "execution_count": 6,
   "metadata": {},
   "outputs": [],
   "source": [
    "# 计算预测的准确度\n",
    "def accuracy(y_hat, y):  #@save\n",
    "    y_hat = y_hat.argmax(axis=1)\n",
    "    cmp = y_hat.type(y.dtype) == y\n",
    "    return float(cmp.type(y.dtype).sum())"
   ]
  },
  {
   "cell_type": "code",
   "execution_count": 43,
   "metadata": {},
   "outputs": [],
   "source": [
    "# 超参数设置\n",
    "epoch_num = 20\n",
    "lr = 0.03\n",
    "image_size = 28\n",
    "class_num = 10\n",
    "device = 'cuda:0'\n",
    "opt = sgd\n",
    "loss = Loss\n",
    "net = Feedforward_multiclass(image_size, class_num, sgd, device)\n",
    "train_loss_list = []\n",
    "test_loss_list = []\n",
    "test_acc_list = []"
   ]
  },
  {
   "cell_type": "code",
   "execution_count": 8,
   "metadata": {},
   "outputs": [
    {
     "name": "stdout",
     "output_type": "stream",
     "text": [
      "epoch: 1, total loss: 10.154448, total_acc: 0.910843\n",
      "epoch: 2, total loss: 8.260377, total_acc: 0.927316\n",
      "epoch: 3, total loss: 6.971844, total_acc: 0.936701\n",
      "epoch: 4, total loss: 5.990088, total_acc: 0.947384\n",
      "epoch: 5, total loss: 5.273942, total_acc: 0.951278\n",
      "epoch: 6, total loss: 4.725614, total_acc: 0.958167\n",
      "epoch: 7, total loss: 4.481669, total_acc: 0.959065\n",
      "epoch: 8, total loss: 3.967535, total_acc: 0.963858\n",
      "epoch: 9, total loss: 3.776188, total_acc: 0.965555\n",
      "epoch: 10, total loss: 3.489661, total_acc: 0.967352\n",
      "epoch: 11, total loss: 3.395023, total_acc: 0.967851\n",
      "epoch: 12, total loss: 3.142960, total_acc: 0.969848\n",
      "epoch: 13, total loss: 3.071620, total_acc: 0.971346\n",
      "epoch: 14, total loss: 2.901190, total_acc: 0.972843\n",
      "epoch: 15, total loss: 2.834130, total_acc: 0.973343\n",
      "epoch: 16, total loss: 2.711885, total_acc: 0.973742\n",
      "epoch: 17, total loss: 2.671684, total_acc: 0.975439\n",
      "epoch: 18, total loss: 2.616542, total_acc: 0.973842\n",
      "epoch: 19, total loss: 2.551643, total_acc: 0.975539\n",
      "epoch: 20, total loss: 2.547841, total_acc: 0.975040\n"
     ]
    }
   ],
   "source": [
    "for epoch in range(epoch_num):\n",
    "    for i, datas in enumerate(train_loader):\n",
    "        train_x, train_label = datas[0].to(device), datas[1].to(device)\n",
    "        # pre-proccess\n",
    "        train_x = train_x.squeeze(1)\n",
    "        train_x = train_x.flatten(1, 2)\n",
    "        train_pred = net.forward(train_x)\n",
    "        l = loss(train_pred, train_label).sum()\n",
    "        l.backward()\n",
    "        net.learn(lr, batch_size)\n",
    "        net.reset_grad()\n",
    "        train_loss_list.append(l.item())\n",
    "    \n",
    "    with torch.no_grad():\n",
    "        total_loss = 0\n",
    "        total_acc = 0\n",
    "        for i, datas in enumerate(test_loader):\n",
    "            test_x, test_label = datas[0].to(device), datas[1].to(device)\n",
    "            # pre-proccess\n",
    "            test_x = test_x.squeeze(1)\n",
    "            test_x = test_x.flatten(1, 2)\n",
    "            test_pred = net.forward(test_x)\n",
    "\n",
    "            l = loss(test_pred, test_label).sum()\n",
    "            total_loss += l\n",
    "\n",
    "            acc = accuracy(test_pred, test_label) / len(test_pred)\n",
    "            total_acc += acc\n",
    "\n",
    "        test_loss_list.append(total_loss.item())\n",
    "        test_acc_list.append(acc)\n",
    "        print('epoch: %d, total loss: %f, total_acc: %f'%(epoch + 1, total_loss / (i+1), total_acc / (i+1)))"
   ]
  },
  {
   "cell_type": "markdown",
   "metadata": {},
   "source": [
    "绘制训练损失图"
   ]
  },
  {
   "cell_type": "code",
   "execution_count": 9,
   "metadata": {},
   "outputs": [
    {
     "data": {
      "image/png": "[encoded data removed]",
      "text/plain": [
       "<Figure size 432x288 with 1 Axes>"
      ]
     },
     "metadata": {
      "needs_background": "light"
     },
     "output_type": "display_data"
    }
   ],
   "source": [
    "x = [i + 1 for i in range(len(train_loss_list))]\n",
    "y = train_loss_list\n",
    "l1 = plt.plot(x, y, 'r--', label='train_loss')\n",
    "\n",
    "plt.title('Training Loss')\n",
    "plt.xlabel('step')\n",
    "plt.ylabel('loss value')\n",
    "plt.show()"
   ]
  },
  {
   "cell_type": "markdown",
   "metadata": {},
   "source": [
    "绘制验证损失图"
   ]
  },
  {
   "cell_type": "code",
   "execution_count": 10,
   "metadata": {},
   "outputs": [
    {
     "data": {
      "image/png": "[encoded data removed]",
      "text/plain": [
       "<Figure size 432x288 with 1 Axes>"
      ]
     },
     "metadata": {
      "needs_background": "light"
     },
     "output_type": "display_data"
    }
   ],
   "source": [
    "x = [i + 1 for i in range(len(test_loss_list))]\n",
    "y = test_loss_list\n",
    "l1 = plt.plot(x, y, 'r--', label='test_loss')\n",
    "\n",
    "plt.title('Validation Loss')\n",
    "plt.xlabel('epoch')\n",
    "plt.ylabel('loss value')\n",
    "plt.show()"
   ]
  },
  {
   "cell_type": "markdown",
   "metadata": {},
   "source": [
    "绘制验证精度图"
   ]
  },
  {
   "cell_type": "code",
   "execution_count": 11,
   "metadata": {},
   "outputs": [
    {
     "data": {
      "image/png": "[encoded data removed]",
      "text/plain": [
       "<Figure size 432x288 with 1 Axes>"
      ]
     },
     "metadata": {
      "needs_background": "light"
     },
     "output_type": "display_data"
    }
   ],
   "source": [
    "x = [i + 1 for i in range(1, len(test_acc_list))]\n",
    "y = test_acc_list[1:]\n",
    "l1 = plt.plot(x, y, 'r--', label='test_acc')\n",
    "\n",
    "plt.title('Validation Accuracy')\n",
    "plt.xlabel('epoch')\n",
    "plt.ylabel('accuracy')\n",
    "plt.show()"
   ]
  },
  {
   "cell_type": "markdown",
   "metadata": {},
   "source": [
    "利用torch.nn实现的前馈神经网络模型（解决多分类问题）"
   ]
  },
  {
   "cell_type": "code",
   "execution_count": 12,
   "metadata": {},
   "outputs": [],
   "source": [
    "# 为进行后续的实验比较，首先固定模型的随机种子\n",
    "def setup_seed(seed):\n",
    "     torch.manual_seed(seed)\n",
    "     torch.cuda.manual_seed_all(seed)\n",
    "     np.random.seed(seed)\n",
    "     random.seed(seed)\n",
    "     torch.backends.cudnn.deterministic = True\n",
    "setup_seed(20)"
   ]
  },
  {
   "cell_type": "markdown",
   "metadata": {},
   "source": [
    "在模型初始化时预置隐藏层数量、隐藏层单元数量等超参位置，同时可选择激活函数类型以及dropout率"
   ]
  },
  {
   "cell_type": "code",
   "execution_count": 13,
   "metadata": {},
   "outputs": [],
   "source": [
    "class FlattenLayer(torch.nn.Module):\n",
    "    def __init__(self):\n",
    "        super(FlattenLayer, self).__init__()\n",
    "    def forward(self, x):\n",
    "        return x.view(x.shape[0], -1)\n",
    "\n",
    "class Feedforward(nn.Module):\n",
    "    def __init__(self, image_size, class_num, layer_num, hidden_dim, activation, drop_out=0):\n",
    "        super(Feedforward, self).__init__()\n",
    "\n",
    "        self.flatten = FlattenLayer()\n",
    "        self.linear_in = nn.Linear(image_size*image_size, hidden_dim)\n",
    "        hidden_layers = []\n",
    "        hidden_layers.append(activation)\n",
    "        if drop_out > 0:\n",
    "            hidden_layers.append(nn.Dropout(p=drop_out))\n",
    "        \n",
    "        for _ in range(layer_num - 1):\n",
    "            hidden_layers.append(nn.Linear(hidden_dim, hidden_dim))\n",
    "            hidden_layers.append(activation)\n",
    "            if drop_out > 0:\n",
    "                hidden_layers.append(nn.Dropout(p=drop_out))\n",
    "        self.hidden_layers = nn.Sequential(*hidden_layers)\n",
    "        self.linear_out = nn.Linear(hidden_dim, class_num)\n",
    "        self.softmax = nn.Softmax()\n",
    "\n",
    "    def forward(self, x):\n",
    "        x = self.flatten(x)\n",
    "        x = self.linear_in(x)\n",
    "        x = self.hidden_layers(x)\n",
    "        x = self.linear_out(x)\n",
    "        return self.softmax(x)"
   ]
  },
  {
   "cell_type": "markdown",
   "metadata": {},
   "source": [
    "对比实验系列一: 探究不同激活函数对实验结果的影响"
   ]
  },
  {
   "cell_type": "code",
   "execution_count": 14,
   "metadata": {},
   "outputs": [],
   "source": [
    "# 超参数设置\n",
    "epoch_num = 20\n",
    "lr = 0.03\n",
    "image_size = 28\n",
    "class_num = 10\n",
    "device = 'cuda:0'\n",
    "\n",
    "layer_num  = 1   # 隐藏层数为1层\n",
    "hidden_dim = 10 # 隐藏层单元数为10\n",
    "drop_out   = 0    # 不设置dropout"
   ]
  },
  {
   "cell_type": "markdown",
   "metadata": {},
   "source": [
    "进行不同激活函数的比较实验"
   ]
  },
  {
   "cell_type": "code",
   "execution_count": 16,
   "metadata": {},
   "outputs": [
    {
     "name": "stderr",
     "output_type": "stream",
     "text": [
      "/tmp/ipykernel_3590706/185350952.py:32: UserWarning: Implicit dimension choice for softmax has been deprecated. Change the call to include dim=X as an argument.\n",
      "  return self.softmax(x)\n"
     ]
    },
    {
     "name": "stdout",
     "output_type": "stream",
     "text": [
      "epoch: 1, total loss: 1.801257, total_acc: 0.720048\n",
      "epoch: 2, total loss: 1.655514, total_acc: 0.830771\n",
      "epoch: 3, total loss: 1.591674, total_acc: 0.896166\n",
      "epoch: 4, total loss: 1.575018, total_acc: 0.903355\n",
      "epoch: 5, total loss: 1.566106, total_acc: 0.909645\n",
      "epoch: 6, total loss: 1.560689, total_acc: 0.913139\n",
      "epoch: 7, total loss: 1.556305, total_acc: 0.915635\n",
      "epoch: 8, total loss: 1.553559, total_acc: 0.918031\n",
      "epoch: 9, total loss: 1.551215, total_acc: 0.919030\n",
      "epoch: 10, total loss: 1.548974, total_acc: 0.920327\n",
      "epoch: 11, total loss: 1.547242, total_acc: 0.922624\n",
      "epoch: 12, total loss: 1.546267, total_acc: 0.921925\n",
      "epoch: 13, total loss: 1.544906, total_acc: 0.923423\n",
      "epoch: 14, total loss: 1.544441, total_acc: 0.923522\n",
      "epoch: 15, total loss: 1.543085, total_acc: 0.924621\n",
      "epoch: 16, total loss: 1.542415, total_acc: 0.924321\n",
      "epoch: 17, total loss: 1.541140, total_acc: 0.926917\n",
      "epoch: 18, total loss: 1.541223, total_acc: 0.926218\n",
      "epoch: 19, total loss: 1.539435, total_acc: 0.927616\n",
      "epoch: 20, total loss: 1.539441, total_acc: 0.927017\n"
     ]
    }
   ],
   "source": [
    "activation = nn.ReLU() #第一种激活函数选用ReLU\n",
    "net = Feedforward(image_size=image_size, class_num=class_num, layer_num=layer_num, hidden_dim=hidden_dim, activation=activation, drop_out=drop_out).to(device)\n",
    "opt = torch.optim.SGD(net.parameters(), lr=0.03)\n",
    "loss = nn.CrossEntropyLoss()\n",
    "\n",
    "relu_train_loss_list = []\n",
    "relu_test_loss_list = []\n",
    "relu_test_acc_list = []\n",
    "for epoch in range(epoch_num):\n",
    "    for i, datas in enumerate(train_loader):\n",
    "        train_x, train_label = datas[0].to(device), datas[1].to(device)\n",
    "        train_pred = net.forward(train_x)\n",
    "        l = loss(train_pred, train_label).sum()\n",
    "        opt.zero_grad()\n",
    "        l.backward()\n",
    "        opt.step()\n",
    "        relu_train_loss_list.append(l.item())\n",
    "    \n",
    "    with torch.no_grad():\n",
    "        total_loss = 0\n",
    "        total_acc = 0\n",
    "        for i, datas in enumerate(test_loader):\n",
    "            test_x, test_label = datas[0].to(device), datas[1].to(device)\n",
    "            test_pred = net.forward(test_x)\n",
    "\n",
    "            l = loss(test_pred, test_label).sum()\n",
    "            total_loss += l\n",
    "\n",
    "            acc = accuracy(test_pred, test_label) / len(test_pred)\n",
    "            total_acc += acc\n",
    "\n",
    "        relu_test_loss_list.append(total_loss.item())\n",
    "        relu_test_acc_list.append(acc)\n",
    "        print('epoch: %d, total loss: %f, total_acc: %f'%(epoch + 1, total_loss / (i+1), total_acc / (i+1)))"
   ]
  },
  {
   "cell_type": "code",
   "execution_count": 18,
   "metadata": {},
   "outputs": [
    {
     "name": "stderr",
     "output_type": "stream",
     "text": [
      "/tmp/ipykernel_3590706/185350952.py:32: UserWarning: Implicit dimension choice for softmax has been deprecated. Change the call to include dim=X as an argument.\n",
      "  return self.softmax(x)\n"
     ]
    },
    {
     "name": "stdout",
     "output_type": "stream",
     "text": [
      "epoch: 1, total loss: 1.858088, total_acc: 0.635583\n",
      "epoch: 2, total loss: 1.693867, total_acc: 0.808007\n",
      "epoch: 3, total loss: 1.602059, total_acc: 0.890475\n",
      "epoch: 4, total loss: 1.579557, total_acc: 0.900859\n",
      "epoch: 5, total loss: 1.568613, total_acc: 0.909545\n",
      "epoch: 6, total loss: 1.562763, total_acc: 0.912640\n",
      "epoch: 7, total loss: 1.558452, total_acc: 0.913838\n",
      "epoch: 8, total loss: 1.555079, total_acc: 0.915236\n",
      "epoch: 9, total loss: 1.552190, total_acc: 0.917033\n",
      "epoch: 10, total loss: 1.549334, total_acc: 0.919728\n",
      "epoch: 11, total loss: 1.547819, total_acc: 0.920527\n",
      "epoch: 12, total loss: 1.546544, total_acc: 0.921426\n",
      "epoch: 13, total loss: 1.545835, total_acc: 0.921625\n",
      "epoch: 14, total loss: 1.543510, total_acc: 0.924022\n",
      "epoch: 15, total loss: 1.542957, total_acc: 0.925819\n",
      "epoch: 16, total loss: 1.542954, total_acc: 0.925319\n",
      "epoch: 17, total loss: 1.541563, total_acc: 0.926018\n",
      "epoch: 18, total loss: 1.540720, total_acc: 0.925919\n",
      "epoch: 19, total loss: 1.539642, total_acc: 0.927416\n",
      "epoch: 20, total loss: 1.539553, total_acc: 0.927017\n"
     ]
    }
   ],
   "source": [
    "activation = nn.LeakyReLU() #第二种激活函数选用LeakyReLU\n",
    "net = Feedforward(image_size=image_size, class_num=class_num, layer_num=layer_num, hidden_dim=hidden_dim, activation=activation, drop_out=drop_out).to(device)\n",
    "opt = torch.optim.SGD(net.parameters(), lr=0.03)\n",
    "loss = nn.CrossEntropyLoss()\n",
    "\n",
    "Lrelu_train_loss_list = []\n",
    "Lrelu_test_loss_list = []\n",
    "Lrelu_test_acc_list = []\n",
    "for epoch in range(epoch_num):\n",
    "    for i, datas in enumerate(train_loader):\n",
    "        train_x, train_label = datas[0].to(device), datas[1].to(device)\n",
    "        train_pred = net.forward(train_x)\n",
    "        l = loss(train_pred, train_label).sum()\n",
    "        opt.zero_grad()\n",
    "        l.backward()\n",
    "        opt.step()\n",
    "        Lrelu_train_loss_list.append(l.item())\n",
    "    \n",
    "    with torch.no_grad():\n",
    "        total_loss = 0\n",
    "        total_acc = 0\n",
    "        for i, datas in enumerate(test_loader):\n",
    "            test_x, test_label = datas[0].to(device), datas[1].to(device)\n",
    "            test_pred = net.forward(test_x)\n",
    "\n",
    "            l = loss(test_pred, test_label).sum()\n",
    "            total_loss += l\n",
    "\n",
    "            acc = accuracy(test_pred, test_label) / len(test_pred)\n",
    "            total_acc += acc\n",
    "\n",
    "        Lrelu_test_loss_list.append(total_loss.item())\n",
    "        Lrelu_test_acc_list.append(acc)\n",
    "        print('epoch: %d, total loss: %f, total_acc: %f'%(epoch + 1, total_loss / (i+1), total_acc / (i+1)))"
   ]
  },
  {
   "cell_type": "code",
   "execution_count": 21,
   "metadata": {},
   "outputs": [
    {
     "name": "stderr",
     "output_type": "stream",
     "text": [
      "/tmp/ipykernel_3590706/185350952.py:32: UserWarning: Implicit dimension choice for softmax has been deprecated. Change the call to include dim=X as an argument.\n",
      "  return self.softmax(x)\n"
     ]
    },
    {
     "name": "stdout",
     "output_type": "stream",
     "text": [
      "epoch: 1, total loss: 2.284889, total_acc: 0.247604\n",
      "epoch: 2, total loss: 2.212125, total_acc: 0.304712\n",
      "epoch: 3, total loss: 2.101446, total_acc: 0.385583\n",
      "epoch: 4, total loss: 2.033496, total_acc: 0.435204\n",
      "epoch: 5, total loss: 1.966464, total_acc: 0.561302\n",
      "epoch: 6, total loss: 1.915302, total_acc: 0.610323\n",
      "epoch: 7, total loss: 1.862468, total_acc: 0.661042\n",
      "epoch: 8, total loss: 1.837122, total_acc: 0.665635\n",
      "epoch: 9, total loss: 1.822359, total_acc: 0.668830\n",
      "epoch: 10, total loss: 1.809166, total_acc: 0.671026\n",
      "epoch: 11, total loss: 1.783607, total_acc: 0.740415\n",
      "epoch: 12, total loss: 1.762361, total_acc: 0.751997\n",
      "epoch: 13, total loss: 1.748724, total_acc: 0.754293\n",
      "epoch: 14, total loss: 1.739938, total_acc: 0.756789\n",
      "epoch: 15, total loss: 1.733583, total_acc: 0.757887\n",
      "epoch: 16, total loss: 1.728917, total_acc: 0.758387\n",
      "epoch: 17, total loss: 1.725160, total_acc: 0.759784\n",
      "epoch: 18, total loss: 1.722262, total_acc: 0.760284\n",
      "epoch: 19, total loss: 1.719587, total_acc: 0.760783\n",
      "epoch: 20, total loss: 1.717517, total_acc: 0.761981\n"
     ]
    }
   ],
   "source": [
    "activation = nn.Sigmoid() #第三种激活函数选用Sigmoid\n",
    "net = Feedforward(image_size=image_size, class_num=class_num, layer_num=layer_num, hidden_dim=hidden_dim, activation=activation, drop_out=drop_out).to(device)\n",
    "opt = torch.optim.SGD(net.parameters(), lr=0.03)\n",
    "loss = nn.CrossEntropyLoss()\n",
    "\n",
    "sigmoid_train_loss_list = []\n",
    "sigmoid_test_loss_list = []\n",
    "sigmoid_test_acc_list = []\n",
    "for epoch in range(epoch_num):\n",
    "    for i, datas in enumerate(train_loader):\n",
    "        train_x, train_label = datas[0].to(device), datas[1].to(device)\n",
    "        train_pred = net.forward(train_x)\n",
    "        l = loss(train_pred, train_label).sum()\n",
    "        opt.zero_grad()\n",
    "        l.backward()\n",
    "        opt.step()\n",
    "        sigmoid_train_loss_list.append(l.item())\n",
    "    \n",
    "    with torch.no_grad():\n",
    "        total_loss = 0\n",
    "        total_acc = 0\n",
    "        for i, datas in enumerate(test_loader):\n",
    "            test_x, test_label = datas[0].to(device), datas[1].to(device)\n",
    "            test_pred = net.forward(test_x)\n",
    "\n",
    "            l = loss(test_pred, test_label).sum()\n",
    "            total_loss += l\n",
    "\n",
    "            acc = accuracy(test_pred, test_label) / len(test_pred)\n",
    "            total_acc += acc\n",
    "\n",
    "        sigmoid_test_loss_list.append(total_loss.item())\n",
    "        sigmoid_test_acc_list.append(acc)\n",
    "        print('epoch: %d, total loss: %f, total_acc: %f'%(epoch + 1, total_loss / (i+1), total_acc / (i+1)))"
   ]
  },
  {
   "cell_type": "markdown",
   "metadata": {},
   "source": [
    "对比使用不同激活函数的实验结果"
   ]
  },
  {
   "cell_type": "markdown",
   "metadata": {},
   "source": [
    "对比使用不同激活函数的实验结果"
   ]
  },
  {
   "cell_type": "markdown",
   "metadata": {},
   "source": [
    " 对比使用不同激活函数的实验结果\n"
   ]
  },
  {
   "cell_type": "code",
   "execution_count": 24,
   "metadata": {},
   "outputs": [
    {
     "data": {
      "image/png": "[encoded data removed]",
      "text/plain": [
       "<Figure size 432x288 with 1 Axes>"
      ]
     },
     "metadata": {
      "needs_background": "light"
     },
     "output_type": "display_data"
    }
   ],
   "source": [
    "x = [i + 1 for i in range(len(relu_test_loss_list))]\n",
    "y1 = relu_test_loss_list\n",
    "y2 = Lrelu_test_loss_list\n",
    "y3 = sigmoid_test_loss_list\n",
    "l1 = plt.plot(x, y1, 'r--', label='ReLU_loss')\n",
    "l2 = plt.plot(x, y2, 'y--', label='LeakyReLU_loss')\n",
    "l3 = plt.plot(x, y3, 'g--', label='Sigmoid_loss')\n",
    "\n",
    "plt.title('Validation Losses')\n",
    "plt.xlabel('epoch')\n",
    "plt.ylabel('loss value')\n",
    "plt.legend()\n",
    "plt.show()"
   ]
  },
  {
   "cell_type": "markdown",
   "metadata": {},
   "source": [
    "进行不同隐藏层数的比较实验"
   ]
  },
  {
   "cell_type": "code",
   "execution_count": 29,
   "metadata": {},
   "outputs": [],
   "source": [
    "# 超参数设置\n",
    "epoch_num = 20\n",
    "lr = 0.03\n",
    "image_size = 28\n",
    "class_num = 10\n",
    "device = 'cuda:0'\n",
    "\n",
    "activation = nn.ReLU()   # 设置激活函数为ReLU\n",
    "hidden_dim = 10          # 隐藏层单元数为10\n",
    "drop_out   = 0           # 不设置dropout"
   ]
  },
  {
   "cell_type": "code",
   "execution_count": 30,
   "metadata": {},
   "outputs": [
    {
     "name": "stderr",
     "output_type": "stream",
     "text": [
      "/tmp/ipykernel_3590706/185350952.py:32: UserWarning: Implicit dimension choice for softmax has been deprecated. Change the call to include dim=X as an argument.\n",
      "  return self.softmax(x)\n"
     ]
    },
    {
     "name": "stdout",
     "output_type": "stream",
     "text": [
      "epoch: 1, total loss: 1.917700, total_acc: 0.570188\n",
      "epoch: 2, total loss: 1.809146, total_acc: 0.664437\n",
      "epoch: 3, total loss: 1.675278, total_acc: 0.824081\n",
      "epoch: 4, total loss: 1.646816, total_acc: 0.832768\n",
      "epoch: 5, total loss: 1.635011, total_acc: 0.838359\n",
      "epoch: 6, total loss: 1.629156, total_acc: 0.842252\n",
      "epoch: 7, total loss: 1.624838, total_acc: 0.844848\n",
      "epoch: 8, total loss: 1.621275, total_acc: 0.847145\n",
      "epoch: 9, total loss: 1.618888, total_acc: 0.848143\n",
      "epoch: 10, total loss: 1.618166, total_acc: 0.849042\n",
      "epoch: 11, total loss: 1.616780, total_acc: 0.850639\n",
      "epoch: 12, total loss: 1.614697, total_acc: 0.851538\n",
      "epoch: 13, total loss: 1.613459, total_acc: 0.854034\n",
      "epoch: 14, total loss: 1.613234, total_acc: 0.853135\n",
      "epoch: 15, total loss: 1.612085, total_acc: 0.854333\n",
      "epoch: 16, total loss: 1.611935, total_acc: 0.854333\n",
      "epoch: 17, total loss: 1.610619, total_acc: 0.855331\n",
      "epoch: 18, total loss: 1.610312, total_acc: 0.855331\n",
      "epoch: 19, total loss: 1.609695, total_acc: 0.856330\n",
      "epoch: 20, total loss: 1.609280, total_acc: 0.855731\n"
     ]
    }
   ],
   "source": [
    "layer_num = 1 # 隐藏层层数为1\n",
    "net = Feedforward(image_size=image_size, class_num=class_num, layer_num=layer_num, hidden_dim=hidden_dim, activation=activation, drop_out=drop_out).to(device)\n",
    "opt = torch.optim.SGD(net.parameters(), lr=0.03)\n",
    "loss = nn.CrossEntropyLoss()\n",
    "\n",
    "train_loss_list_1 = []\n",
    "test_loss_list_1 = []\n",
    "test_acc_list_1 = []\n",
    "for epoch in range(epoch_num):\n",
    "    for i, datas in enumerate(train_loader):\n",
    "        train_x, train_label = datas[0].to(device), datas[1].to(device)\n",
    "        train_pred = net.forward(train_x)\n",
    "        l = loss(train_pred, train_label).sum()\n",
    "        opt.zero_grad()\n",
    "        l.backward()\n",
    "        opt.step()\n",
    "        train_loss_list_1.append(l.item())\n",
    "    \n",
    "    with torch.no_grad():\n",
    "        total_loss = 0\n",
    "        total_acc = 0\n",
    "        for i, datas in enumerate(test_loader):\n",
    "            test_x, test_label = datas[0].to(device), datas[1].to(device)\n",
    "            test_pred = net.forward(test_x)\n",
    "\n",
    "            l = loss(test_pred, test_label).sum()\n",
    "            total_loss += l\n",
    "\n",
    "            acc = accuracy(test_pred, test_label) / len(test_pred)\n",
    "            total_acc += acc\n",
    "\n",
    "        test_loss_list_1.append(total_loss.item())\n",
    "        test_acc_list_1.append(acc)\n",
    "        print('epoch: %d, total loss: %f, total_acc: %f'%(epoch + 1, total_loss / (i+1), total_acc / (i+1)))"
   ]
  },
  {
   "cell_type": "code",
   "execution_count": 31,
   "metadata": {},
   "outputs": [
    {
     "name": "stderr",
     "output_type": "stream",
     "text": [
      "/tmp/ipykernel_3590706/185350952.py:32: UserWarning: Implicit dimension choice for softmax has been deprecated. Change the call to include dim=X as an argument.\n",
      "  return self.softmax(x)\n"
     ]
    },
    {
     "name": "stdout",
     "output_type": "stream",
     "text": [
      "epoch: 1, total loss: 2.215585, total_acc: 0.211062\n",
      "epoch: 2, total loss: 2.067820, total_acc: 0.391174\n",
      "epoch: 3, total loss: 1.854879, total_acc: 0.641274\n",
      "epoch: 4, total loss: 1.682282, total_acc: 0.785443\n",
      "epoch: 5, total loss: 1.666087, total_acc: 0.799820\n",
      "epoch: 6, total loss: 1.661743, total_acc: 0.802216\n",
      "epoch: 7, total loss: 1.649432, total_acc: 0.814996\n",
      "epoch: 8, total loss: 1.646584, total_acc: 0.816094\n",
      "epoch: 9, total loss: 1.644416, total_acc: 0.818690\n",
      "epoch: 10, total loss: 1.640902, total_acc: 0.822883\n",
      "epoch: 11, total loss: 1.640903, total_acc: 0.820887\n",
      "epoch: 12, total loss: 1.638732, total_acc: 0.824880\n",
      "epoch: 13, total loss: 1.640061, total_acc: 0.821685\n",
      "epoch: 14, total loss: 1.639529, total_acc: 0.821885\n",
      "epoch: 15, total loss: 1.634453, total_acc: 0.828175\n",
      "epoch: 16, total loss: 1.634157, total_acc: 0.828474\n",
      "epoch: 17, total loss: 1.632273, total_acc: 0.829673\n",
      "epoch: 18, total loss: 1.634289, total_acc: 0.827875\n",
      "epoch: 19, total loss: 1.630478, total_acc: 0.830571\n",
      "epoch: 20, total loss: 1.630997, total_acc: 0.830371\n"
     ]
    }
   ],
   "source": [
    "layer_num = 3 # 隐藏层层数为3\n",
    "net = Feedforward(image_size=image_size, class_num=class_num, layer_num=layer_num, hidden_dim=hidden_dim, activation=activation, drop_out=drop_out).to(device)\n",
    "opt = torch.optim.SGD(net.parameters(), lr=0.03)\n",
    "loss = nn.CrossEntropyLoss()\n",
    "\n",
    "train_loss_list_3 = []\n",
    "test_loss_list_3 = []\n",
    "test_acc_list_3 = []\n",
    "for epoch in range(epoch_num):\n",
    "    for i, datas in enumerate(train_loader):\n",
    "        train_x, train_label = datas[0].to(device), datas[1].to(device)\n",
    "        train_pred = net.forward(train_x)\n",
    "        l = loss(train_pred, train_label).sum()\n",
    "        opt.zero_grad()\n",
    "        l.backward()\n",
    "        opt.step()\n",
    "        train_loss_list_3.append(l.item())\n",
    "    \n",
    "    with torch.no_grad():\n",
    "        total_loss = 0\n",
    "        total_acc = 0\n",
    "        for i, datas in enumerate(test_loader):\n",
    "            test_x, test_label = datas[0].to(device), datas[1].to(device)\n",
    "            test_pred = net.forward(test_x)\n",
    "\n",
    "            l = loss(test_pred, test_label).sum()\n",
    "            total_loss += l\n",
    "\n",
    "            acc = accuracy(test_pred, test_label) / len(test_pred)\n",
    "            total_acc += acc\n",
    "\n",
    "        test_loss_list_3.append(total_loss.item())\n",
    "        test_acc_list_3.append(acc)\n",
    "        print('epoch: %d, total loss: %f, total_acc: %f'%(epoch + 1, total_loss / (i+1), total_acc / (i+1)))"
   ]
  },
  {
   "cell_type": "code",
   "execution_count": 34,
   "metadata": {},
   "outputs": [
    {
     "name": "stderr",
     "output_type": "stream",
     "text": [
      "/tmp/ipykernel_3590706/185350952.py:32: UserWarning: Implicit dimension choice for softmax has been deprecated. Change the call to include dim=X as an argument.\n",
      "  return self.softmax(x)\n"
     ]
    },
    {
     "name": "stdout",
     "output_type": "stream",
     "text": [
      "epoch: 1, total loss: 2.049699, total_acc: 0.394369\n",
      "epoch: 2, total loss: 1.787231, total_acc: 0.701378\n",
      "epoch: 3, total loss: 1.739294, total_acc: 0.730132\n",
      "epoch: 4, total loss: 1.726341, total_acc: 0.739617\n",
      "epoch: 5, total loss: 1.721111, total_acc: 0.743510\n",
      "epoch: 6, total loss: 1.717747, total_acc: 0.744309\n",
      "epoch: 7, total loss: 1.716201, total_acc: 0.746006\n",
      "epoch: 8, total loss: 1.714875, total_acc: 0.747204\n",
      "epoch: 9, total loss: 1.713919, total_acc: 0.746805\n",
      "epoch: 10, total loss: 1.712556, total_acc: 0.748103\n",
      "epoch: 11, total loss: 1.712290, total_acc: 0.748802\n",
      "epoch: 12, total loss: 1.711755, total_acc: 0.749201\n",
      "epoch: 13, total loss: 1.708680, total_acc: 0.752396\n",
      "epoch: 14, total loss: 1.708129, total_acc: 0.752496\n",
      "epoch: 15, total loss: 1.706848, total_acc: 0.754293\n",
      "epoch: 16, total loss: 1.708649, total_acc: 0.751098\n",
      "epoch: 17, total loss: 1.705979, total_acc: 0.754692\n",
      "epoch: 18, total loss: 1.705377, total_acc: 0.754992\n",
      "epoch: 19, total loss: 1.704863, total_acc: 0.756290\n",
      "epoch: 20, total loss: 1.703900, total_acc: 0.755891\n"
     ]
    }
   ],
   "source": [
    "layer_num = 2 # 隐藏层层数为2\n",
    "net = Feedforward(image_size=image_size, class_num=class_num, layer_num=layer_num, hidden_dim=hidden_dim, activation=activation, drop_out=drop_out).to(device)\n",
    "opt = torch.optim.SGD(net.parameters(), lr=0.03)\n",
    "loss = nn.CrossEntropyLoss()\n",
    "\n",
    "train_loss_list_2 = []\n",
    "test_loss_list_2 = []\n",
    "test_acc_list_2 = []\n",
    "for epoch in range(epoch_num):\n",
    "    for i, datas in enumerate(train_loader):\n",
    "        train_x, train_label = datas[0].to(device), datas[1].to(device)\n",
    "        train_pred = net.forward(train_x)\n",
    "        l = loss(train_pred, train_label).sum()\n",
    "        opt.zero_grad()\n",
    "        l.backward()\n",
    "        opt.step()\n",
    "        train_loss_list_2.append(l.item())\n",
    "    \n",
    "    with torch.no_grad():\n",
    "        total_loss = 0\n",
    "        total_acc = 0\n",
    "        for i, datas in enumerate(test_loader):\n",
    "            test_x, test_label = datas[0].to(device), datas[1].to(device)\n",
    "            test_pred = net.forward(test_x)\n",
    "\n",
    "            l = loss(test_pred, test_label).sum()\n",
    "            total_loss += l\n",
    "\n",
    "            acc = accuracy(test_pred, test_label) / len(test_pred)\n",
    "            total_acc += acc\n",
    "\n",
    "        test_loss_list_2.append(total_loss.item())\n",
    "        test_acc_list_2.append(acc)\n",
    "        print('epoch: %d, total loss: %f, total_acc: %f'%(epoch + 1, total_loss / (i+1), total_acc / (i+1)))"
   ]
  },
  {
   "cell_type": "markdown",
   "metadata": {},
   "source": [
    "对比使用不同隐藏层数的实验结果"
   ]
  },
  {
   "cell_type": "code",
   "execution_count": 36,
   "metadata": {},
   "outputs": [
    {
     "data": {
      "image/png": "[encoded data removed]",
      "text/plain": [
       "<Figure size 432x288 with 1 Axes>"
      ]
     },
     "metadata": {
      "needs_background": "light"
     },
     "output_type": "display_data"
    }
   ],
   "source": [
    "x = [i + 1 for i in range(len(test_loss_list_1))]\n",
    "y1 = test_loss_list_1\n",
    "y2 = test_loss_list_2\n",
    "y3 = test_loss_list_3\n",
    "l1 = plt.plot(x, y1, 'r--', label='1 hidden layer')\n",
    "l2 = plt.plot(x, y2, 'y--', label='2 hidden layer')\n",
    "l3 = plt.plot(x, y3, 'g--', label='3 hidden layer')\n",
    "\n",
    "plt.title('Validation Losses')\n",
    "plt.xlabel('epoch')\n",
    "plt.ylabel('loss value')\n",
    "plt.legend()\n",
    "plt.show()"
   ]
  },
  {
   "cell_type": "markdown",
   "metadata": {},
   "source": [
    "进行不同隐藏单元的比较实验"
   ]
  },
  {
   "cell_type": "code",
   "execution_count": 37,
   "metadata": {},
   "outputs": [],
   "source": [
    "# 超参数设置\n",
    "epoch_num = 20\n",
    "lr = 0.03\n",
    "image_size = 28\n",
    "class_num = 10\n",
    "device = 'cuda:0'\n",
    "\n",
    "activation = nn.ReLU()   # 设置激活函数为ReLU\n",
    "layer_num  = 1           # 隐藏层单元数为10\n",
    "drop_out   = 0           # 不设置dropout"
   ]
  },
  {
   "cell_type": "code",
   "execution_count": 38,
   "metadata": {},
   "outputs": [
    {
     "name": "stderr",
     "output_type": "stream",
     "text": [
      "/tmp/ipykernel_3590706/185350952.py:32: UserWarning: Implicit dimension choice for softmax has been deprecated. Change the call to include dim=X as an argument.\n",
      "  return self.softmax(x)\n"
     ]
    },
    {
     "name": "stdout",
     "output_type": "stream",
     "text": [
      "epoch: 1, total loss: 1.756142, total_acc: 0.744209\n",
      "epoch: 2, total loss: 1.656906, total_acc: 0.835763\n",
      "epoch: 3, total loss: 1.635599, total_acc: 0.843151\n",
      "epoch: 4, total loss: 1.626410, total_acc: 0.846745\n",
      "epoch: 5, total loss: 1.620707, total_acc: 0.850639\n",
      "epoch: 6, total loss: 1.575456, total_acc: 0.905851\n",
      "epoch: 7, total loss: 1.560349, total_acc: 0.915236\n",
      "epoch: 8, total loss: 1.552809, total_acc: 0.920228\n",
      "epoch: 9, total loss: 1.548078, total_acc: 0.924221\n",
      "epoch: 10, total loss: 1.544379, total_acc: 0.927017\n",
      "epoch: 11, total loss: 1.541085, total_acc: 0.929712\n",
      "epoch: 12, total loss: 1.538207, total_acc: 0.931410\n",
      "epoch: 13, total loss: 1.535878, total_acc: 0.934605\n",
      "epoch: 14, total loss: 1.533631, total_acc: 0.935304\n",
      "epoch: 15, total loss: 1.532212, total_acc: 0.936801\n",
      "epoch: 16, total loss: 1.530372, total_acc: 0.938199\n",
      "epoch: 17, total loss: 1.528711, total_acc: 0.938898\n",
      "epoch: 18, total loss: 1.527313, total_acc: 0.940395\n",
      "epoch: 19, total loss: 1.526204, total_acc: 0.940895\n",
      "epoch: 20, total loss: 1.524709, total_acc: 0.942392\n"
     ]
    }
   ],
   "source": [
    "hidden_dim = 100 # 隐藏单元数为100\n",
    "net = Feedforward(image_size=image_size, class_num=class_num, layer_num=layer_num, hidden_dim=hidden_dim, activation=activation, drop_out=drop_out).to(device)\n",
    "opt = torch.optim.SGD(net.parameters(), lr=0.03)\n",
    "loss = nn.CrossEntropyLoss()\n",
    "\n",
    "train_loss_list_1 = []\n",
    "test_loss_list_1 = []\n",
    "test_acc_list_1 = []\n",
    "for epoch in range(epoch_num):\n",
    "    for i, datas in enumerate(train_loader):\n",
    "        train_x, train_label = datas[0].to(device), datas[1].to(device)\n",
    "        train_pred = net.forward(train_x)\n",
    "        l = loss(train_pred, train_label).sum()\n",
    "        opt.zero_grad()\n",
    "        l.backward()\n",
    "        opt.step()\n",
    "        train_loss_list_1.append(l.item())\n",
    "    \n",
    "    with torch.no_grad():\n",
    "        total_loss = 0\n",
    "        total_acc = 0\n",
    "        for i, datas in enumerate(test_loader):\n",
    "            test_x, test_label = datas[0].to(device), datas[1].to(device)\n",
    "            test_pred = net.forward(test_x)\n",
    "\n",
    "            l = loss(test_pred, test_label).sum()\n",
    "            total_loss += l\n",
    "\n",
    "            acc = accuracy(test_pred, test_label) / len(test_pred)\n",
    "            total_acc += acc\n",
    "\n",
    "        test_loss_list_1.append(total_loss.item())\n",
    "        test_acc_list_1.append(acc)\n",
    "        print('epoch: %d, total loss: %f, total_acc: %f'%(epoch + 1, total_loss / (i+1), total_acc / (i+1)))"
   ]
  },
  {
   "cell_type": "code",
   "execution_count": 39,
   "metadata": {},
   "outputs": [
    {
     "name": "stderr",
     "output_type": "stream",
     "text": [
      "/tmp/ipykernel_3590706/185350952.py:32: UserWarning: Implicit dimension choice for softmax has been deprecated. Change the call to include dim=X as an argument.\n",
      "  return self.softmax(x)\n"
     ]
    },
    {
     "name": "stdout",
     "output_type": "stream",
     "text": [
      "epoch: 1, total loss: 1.727297, total_acc: 0.810903\n",
      "epoch: 2, total loss: 1.648846, total_acc: 0.836362\n",
      "epoch: 3, total loss: 1.632384, total_acc: 0.843051\n",
      "epoch: 4, total loss: 1.625154, total_acc: 0.847943\n",
      "epoch: 5, total loss: 1.621002, total_acc: 0.849940\n",
      "epoch: 6, total loss: 1.614650, total_acc: 0.855431\n",
      "epoch: 7, total loss: 1.565315, total_acc: 0.912540\n",
      "epoch: 8, total loss: 1.554814, total_acc: 0.918830\n",
      "epoch: 9, total loss: 1.550416, total_acc: 0.921226\n",
      "epoch: 10, total loss: 1.545472, total_acc: 0.925220\n",
      "epoch: 11, total loss: 1.543026, total_acc: 0.926617\n",
      "epoch: 12, total loss: 1.540861, total_acc: 0.928215\n",
      "epoch: 13, total loss: 1.537733, total_acc: 0.932208\n",
      "epoch: 14, total loss: 1.536160, total_acc: 0.932109\n",
      "epoch: 15, total loss: 1.534725, total_acc: 0.934205\n",
      "epoch: 16, total loss: 1.532552, total_acc: 0.935703\n",
      "epoch: 17, total loss: 1.531015, total_acc: 0.937001\n",
      "epoch: 18, total loss: 1.530003, total_acc: 0.937500\n",
      "epoch: 19, total loss: 1.528943, total_acc: 0.939097\n",
      "epoch: 20, total loss: 1.527445, total_acc: 0.939197\n"
     ]
    }
   ],
   "source": [
    "hidden_dim = 50 # 隐藏单元数为50\n",
    "net = Feedforward(image_size=image_size, class_num=class_num, layer_num=layer_num, hidden_dim=hidden_dim, activation=activation, drop_out=drop_out).to(device)\n",
    "opt = torch.optim.SGD(net.parameters(), lr=0.03)\n",
    "loss = nn.CrossEntropyLoss()\n",
    "\n",
    "train_loss_list_5 = []\n",
    "test_loss_list_5 = []\n",
    "test_acc_list_5 = []\n",
    "for epoch in range(epoch_num):\n",
    "    for i, datas in enumerate(train_loader):\n",
    "        train_x, train_label = datas[0].to(device), datas[1].to(device)\n",
    "        train_pred = net.forward(train_x)\n",
    "        l = loss(train_pred, train_label).sum()\n",
    "        opt.zero_grad()\n",
    "        l.backward()\n",
    "        opt.step()\n",
    "        train_loss_list_5.append(l.item())\n",
    "    \n",
    "    with torch.no_grad():\n",
    "        total_loss = 0\n",
    "        total_acc = 0\n",
    "        for i, datas in enumerate(test_loader):\n",
    "            test_x, test_label = datas[0].to(device), datas[1].to(device)\n",
    "            test_pred = net.forward(test_x)\n",
    "\n",
    "            l = loss(test_pred, test_label).sum()\n",
    "            total_loss += l\n",
    "\n",
    "            acc = accuracy(test_pred, test_label) / len(test_pred)\n",
    "            total_acc += acc\n",
    "\n",
    "        test_loss_list_5.append(total_loss.item())\n",
    "        test_acc_list_5.append(acc)\n",
    "        print('epoch: %d, total loss: %f, total_acc: %f'%(epoch + 1, total_loss / (i+1), total_acc / (i+1)))"
   ]
  },
  {
   "cell_type": "code",
   "execution_count": 41,
   "metadata": {},
   "outputs": [
    {
     "name": "stderr",
     "output_type": "stream",
     "text": [
      "/tmp/ipykernel_3590706/185350952.py:32: UserWarning: Implicit dimension choice for softmax has been deprecated. Change the call to include dim=X as an argument.\n",
      "  return self.softmax(x)\n"
     ]
    },
    {
     "name": "stdout",
     "output_type": "stream",
     "text": [
      "epoch: 1, total loss: 1.808147, total_acc: 0.716554\n",
      "epoch: 2, total loss: 1.729048, total_acc: 0.749900\n",
      "epoch: 3, total loss: 1.715253, total_acc: 0.755192\n",
      "epoch: 4, total loss: 1.709689, total_acc: 0.758686\n",
      "epoch: 5, total loss: 1.669959, total_acc: 0.810903\n",
      "epoch: 6, total loss: 1.650052, total_acc: 0.823782\n",
      "epoch: 7, total loss: 1.642400, total_acc: 0.828175\n",
      "epoch: 8, total loss: 1.637551, total_acc: 0.831769\n",
      "epoch: 9, total loss: 1.634582, total_acc: 0.834465\n",
      "epoch: 10, total loss: 1.632177, total_acc: 0.835363\n",
      "epoch: 11, total loss: 1.630101, total_acc: 0.837061\n",
      "epoch: 12, total loss: 1.629202, total_acc: 0.837560\n",
      "epoch: 13, total loss: 1.627949, total_acc: 0.837260\n",
      "epoch: 14, total loss: 1.627021, total_acc: 0.839157\n",
      "epoch: 15, total loss: 1.626191, total_acc: 0.838458\n",
      "epoch: 16, total loss: 1.625905, total_acc: 0.839157\n",
      "epoch: 17, total loss: 1.624621, total_acc: 0.840056\n",
      "epoch: 18, total loss: 1.624572, total_acc: 0.840256\n",
      "epoch: 19, total loss: 1.623733, total_acc: 0.839856\n",
      "epoch: 20, total loss: 1.623608, total_acc: 0.840855\n"
     ]
    }
   ],
   "source": [
    "hidden_dim = 10 # 隐藏单元数为10\n",
    "net = Feedforward(image_size=image_size, class_num=class_num, layer_num=layer_num, hidden_dim=hidden_dim, activation=activation, drop_out=drop_out).to(device)\n",
    "opt = torch.optim.SGD(net.parameters(), lr=0.03)\n",
    "loss = nn.CrossEntropyLoss()\n",
    "\n",
    "train_loss_list_10 = []\n",
    "test_loss_list_10 = []\n",
    "test_acc_list_10 = []\n",
    "for epoch in range(epoch_num):\n",
    "    for i, datas in enumerate(train_loader):\n",
    "        train_x, train_label = datas[0].to(device), datas[1].to(device)\n",
    "        train_pred = net.forward(train_x)\n",
    "        l = loss(train_pred, train_label).sum()\n",
    "        opt.zero_grad()\n",
    "        l.backward()\n",
    "        opt.step()\n",
    "        train_loss_list_10.append(l.item())\n",
    "    \n",
    "    with torch.no_grad():\n",
    "        total_loss = 0\n",
    "        total_acc = 0\n",
    "        for i, datas in enumerate(test_loader):\n",
    "            test_x, test_label = datas[0].to(device), datas[1].to(device)\n",
    "            test_pred = net.forward(test_x)\n",
    "\n",
    "            l = loss(test_pred, test_label).sum()\n",
    "            total_loss += l\n",
    "\n",
    "            acc = accuracy(test_pred, test_label) / len(test_pred)\n",
    "            total_acc += acc\n",
    "\n",
    "        test_loss_list_10.append(total_loss.item())\n",
    "        test_acc_list_10.append(acc)\n",
    "        print('epoch: %d, total loss: %f, total_acc: %f'%(epoch + 1, total_loss / (i+1), total_acc / (i+1)))"
   ]
  },
  {
   "cell_type": "markdown",
   "metadata": {},
   "source": [
    "对比使用不同隐藏单元数的实验结果"
   ]
  },
  {
   "cell_type": "code",
   "execution_count": 42,
   "metadata": {},
   "outputs": [
    {
     "data": {
      "image/png": "[encoded data removed]",
      "text/plain": [
       "<Figure size 432x288 with 1 Axes>"
      ]
     },
     "metadata": {
      "needs_background": "light"
     },
     "output_type": "display_data"
    }
   ],
   "source": [
    "x = [i + 1 for i in range(len(test_loss_list_1))]\n",
    "y1 = test_loss_list_1\n",
    "y2 = test_loss_list_5\n",
    "y3 = test_loss_list_10\n",
    "l1 = plt.plot(x, y1, 'r--', label='100 hidden unit')\n",
    "l2 = plt.plot(x, y2, 'y--', label='50 hidden unit')\n",
    "l3 = plt.plot(x, y3, 'g--', label='10 hidden unit')\n",
    "\n",
    "plt.title('Validation Losses')\n",
    "plt.xlabel('epoch')\n",
    "plt.ylabel('loss value')\n",
    "plt.legend()\n",
    "plt.show()"
   ]
  }
 ],
 "metadata": {
  "kernelspec": {
   "display_name": "Python 3.9.7 ('base')",
   "language": "python",
   "name": "python3"
  },
  "language_info": {
   "codemirror_mode": {
    "name": "ipython",
    "version": 3
   },
   "file_extension": ".py",
   "mimetype": "text/x-python",
   "name": "python",
   "nbconvert_exporter": "python",
   "pygments_lexer": "ipython3",
   "version": "3.9.12"
  },
  "orig_nbformat": 4,
  "vscode": {
   "interpreter": {
    "hash": "bb47ef1ad79943d811bafa2fa84fcb47147f85a402b583945e5888afc6d949fa"
   }
  }
 },
 "nbformat": 4,
 "nbformat_minor": 2
}
