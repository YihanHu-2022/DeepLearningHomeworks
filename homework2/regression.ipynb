{
 "cells": [
  {
   "cell_type": "code",
   "execution_count": 2,
   "metadata": {},
   "outputs": [],
   "source": [
    "#调用torch库\n",
    "import torch\n",
    "import torchvision\n",
    "import torchvision.transforms as transforms\n",
    "\n",
    "import torch.nn as nn\n",
    "#调用numpy库\n",
    "import numpy as np\n",
    "#调用matplotlib库\n",
    "import matplotlib.pyplot as plt\n",
    "#调用random库\n",
    "import random"
   ]
  },
  {
   "cell_type": "markdown",
   "metadata": {},
   "source": [
    "按要求生成回归模型训练数据与验证数据"
   ]
  },
  {
   "cell_type": "code",
   "execution_count": 3,
   "metadata": {},
   "outputs": [],
   "source": [
    "n_data = torch.zeros(10000, 500)\n",
    "X = torch.normal(mean=n_data, std=n_data + 0.01)\n",
    "\n",
    "n_noise = torch.zeros(10000, 1)\n",
    "noise = torch.normal(mean=n_noise, std=n_noise + 0.01)\n",
    "\n",
    "Y = 0.028 + 0.056*torch.sum(X, dim=1).unsqueeze(1) + noise\n",
    "\n",
    "x_train, x_test = X[:7000], X[7000:]\n",
    "y_train, y_test = Y[:7000], Y[7000:]"
   ]
  },
  {
   "cell_type": "code",
   "execution_count": 4,
   "metadata": {},
   "outputs": [
    {
     "name": "stdout",
     "output_type": "stream",
     "text": [
      "torch.Size([7000, 500]) torch.Size([3000, 500])\n",
      "torch.Size([7000, 1]) torch.Size([3000, 1])\n"
     ]
    }
   ],
   "source": [
    "print(x_train.shape, x_test.shape)\n",
    "print(y_train.shape, y_test.shape)"
   ]
  },
  {
   "cell_type": "code",
   "execution_count": 5,
   "metadata": {},
   "outputs": [],
   "source": [
    "#使用课上给出的数据读取函数\n",
    "def data_iter(batch_size, features, labels):\n",
    "    num_examples = len(features)\n",
    "    indices = list(range(num_examples))\n",
    "    random.shuffle(indices) # 样本的读取顺序是随机的\n",
    "    for i in range(0, num_examples, batch_size):\n",
    "        j = torch.LongTensor(indices[i: min(i + batch_size, num_examples)]) # 最后一次可能不足一个batch\n",
    "        yield features.index_select(0, j), labels.index_select(0, j)"
   ]
  },
  {
   "cell_type": "markdown",
   "metadata": {},
   "source": [
    "手动实现的前馈神经网络"
   ]
  },
  {
   "cell_type": "code",
   "execution_count": 6,
   "metadata": {},
   "outputs": [],
   "source": [
    "# 使用课上给出的优化函数进行参数的学习优化\n",
    "def sgd(params, lr, batch_size):\n",
    "    for param in params:\n",
    "        param.data -= lr * param.grad / batch_size\n",
    "\n",
    "# 手动实现的平均绝对误差函数（用于解决回归问题）\n",
    "def MAE(y, y_hat):\n",
    "    return torch.mean(torch.abs(y - y_hat), dim=0)"
   ]
  },
  {
   "cell_type": "markdown",
   "metadata": {},
   "source": [
    "手动实现的前馈神经网络（解决回归问题）"
   ]
  },
  {
   "cell_type": "code",
   "execution_count": 7,
   "metadata": {},
   "outputs": [],
   "source": [
    "class Feedforward_regression:\n",
    "    def __init__(self, feature_dim, opt, device, hidden=100):\n",
    "        self.w_in = torch.tensor(np.random.normal(0, 0.01, (feature_dim, hidden)), dtype=torch.float32).to(device)\n",
    "        self.b_in = torch.zeros(hidden, dtype=torch.float32).to(device)\n",
    "        self.w_in.requires_grad_(requires_grad=True)\n",
    "        self.b_in.requires_grad_(requires_grad=True) \n",
    "\n",
    "        self.w_out = torch.tensor(np.random.normal(0, 0.01, (hidden, 1)), dtype=torch.float32).to(device)\n",
    "        self.b_out = torch.zeros(1, dtype=torch.float32).to(device)\n",
    "        self.w_out.requires_grad_(requires_grad=True)\n",
    "        self.b_out.requires_grad_(requires_grad=True) \n",
    "\n",
    "        self.opt = opt\n",
    "\n",
    "    def forward(self, x):\n",
    "        x = torch.matmul(x, self.w_in) + self.b_in\n",
    "        y_hat = torch.matmul(x, self.w_out) + self.b_out\n",
    "        return y_hat\n",
    "\n",
    "    def learn(self, lr, bs):\n",
    "        self.opt([self.w_in, self.b_in, self.w_out, self.b_out], lr, bs)\n",
    "\n",
    "    def reset_grad(self):\n",
    "        self.w_in.grad.data.zero_()\n",
    "        self.b_in.grad.data.zero_()\n",
    "        self.w_out.grad.data.zero_()\n",
    "        self.b_out.grad.data.zero_()"
   ]
  },
  {
   "cell_type": "markdown",
   "metadata": {},
   "source": [
    "模型训练"
   ]
  },
  {
   "cell_type": "code",
   "execution_count": 8,
   "metadata": {},
   "outputs": [
    {
     "name": "stdout",
     "output_type": "stream",
     "text": [
      "epoch: 1, total loss: 0.019325\n",
      "epoch: 2, total loss: 0.014862\n",
      "epoch: 3, total loss: 0.013302\n",
      "epoch: 4, total loss: 0.012827\n",
      "epoch: 5, total loss: 0.012676\n",
      "epoch: 6, total loss: 0.012643\n",
      "epoch: 7, total loss: 0.012646\n",
      "epoch: 8, total loss: 0.012638\n",
      "epoch: 9, total loss: 0.012644\n",
      "epoch: 10, total loss: 0.012640\n",
      "epoch: 11, total loss: 0.012638\n",
      "epoch: 12, total loss: 0.012619\n",
      "epoch: 13, total loss: 0.012632\n",
      "epoch: 14, total loss: 0.012641\n",
      "epoch: 15, total loss: 0.012634\n",
      "epoch: 16, total loss: 0.012635\n",
      "epoch: 17, total loss: 0.012637\n",
      "epoch: 18, total loss: 0.012639\n",
      "epoch: 19, total loss: 0.012626\n",
      "epoch: 20, total loss: 0.012628\n",
      "epoch: 21, total loss: 0.012636\n",
      "epoch: 22, total loss: 0.012626\n",
      "epoch: 23, total loss: 0.012636\n",
      "epoch: 24, total loss: 0.012630\n",
      "epoch: 25, total loss: 0.012627\n",
      "epoch: 26, total loss: 0.012631\n",
      "epoch: 27, total loss: 0.012628\n",
      "epoch: 28, total loss: 0.012631\n",
      "epoch: 29, total loss: 0.012636\n",
      "epoch: 30, total loss: 0.012637\n"
     ]
    }
   ],
   "source": [
    "epoch_num = 30\n",
    "lr = 0.03\n",
    "feature_dim = 500\n",
    "device = 'cuda:0'\n",
    "opt = sgd\n",
    "loss = MAE\n",
    "batch_size = 128\n",
    "model = Feedforward_regression(feature_dim, sgd, device)\n",
    "train_loss_list = []\n",
    "test_loss_list = []\n",
    "for epoch in range(epoch_num):\n",
    "    for x, y in data_iter(batch_size, x_train, y_train):\n",
    "        x, y = x.to(device), y.to(device)\n",
    "        y_hat = model.forward(x)\n",
    "        l = loss(y_hat, y).sum()\n",
    "        l.backward()\n",
    "        model.learn(lr, batch_size)\n",
    "        model.reset_grad()\n",
    "        train_loss_list.append(l.item()*100)\n",
    "    \n",
    "    with torch.no_grad():\n",
    "        total_loss = 0\n",
    "        counter = 0\n",
    "        for x, y in data_iter(batch_size, x_test, y_test):\n",
    "            test_x, test_y = x.to(device), y.to(device)\n",
    "            test_pred = model.forward(test_x)\n",
    "\n",
    "            l = loss(test_pred, test_y).sum()\n",
    "            total_loss += l\n",
    "            counter += 1\n",
    "        test_loss_list.append(total_loss.item())\n",
    "        print('epoch: %d, total loss: %f'%(epoch + 1, total_loss / (counter+1)))"
   ]
  },
  {
   "cell_type": "markdown",
   "metadata": {},
   "source": [
    "绘制训练loss曲线"
   ]
  },
  {
   "cell_type": "code",
   "execution_count": 9,
   "metadata": {},
   "outputs": [
    {
     "data": {
      "image/png": "[encoded data removed]",
      "text/plain": [
       "<Figure size 432x288 with 1 Axes>"
      ]
     },
     "metadata": {
      "needs_background": "light"
     },
     "output_type": "display_data"
    }
   ],
   "source": [
    "x = [i + 1 for i in range(len(train_loss_list))]\n",
    "y = train_loss_list\n",
    "l1 = plt.plot(x, y, 'r--', label='train_loss')\n",
    "\n",
    "plt.title('Training Loss')\n",
    "plt.xlabel('step')\n",
    "plt.ylabel('loss value')\n",
    "plt.show()"
   ]
  },
  {
   "cell_type": "markdown",
   "metadata": {},
   "source": [
    "绘制验证loss曲线"
   ]
  },
  {
   "cell_type": "code",
   "execution_count": 10,
   "metadata": {},
   "outputs": [
    {
     "data": {
      "image/png": "[encoded data removed]",
      "text/plain": [
       "<Figure size 432x288 with 1 Axes>"
      ]
     },
     "metadata": {
      "needs_background": "light"
     },
     "output_type": "display_data"
    }
   ],
   "source": [
    "x = [i + 1 for i in range(len(test_loss_list))]\n",
    "y = test_loss_list\n",
    "l1 = plt.plot(x, y, 'r--', label='test_loss')\n",
    "\n",
    "plt.title('Validation Loss')\n",
    "plt.xlabel('epoch')\n",
    "plt.ylabel('loss value')\n",
    "plt.show()"
   ]
  },
  {
   "cell_type": "markdown",
   "metadata": {},
   "source": [
    "torch.nn 实现的前馈神经网络（解决回归问题）"
   ]
  },
  {
   "cell_type": "code",
   "execution_count": 15,
   "metadata": {},
   "outputs": [],
   "source": [
    "class Feedforward(nn.Module):\n",
    "  def __init__(self, feature, hidden):\n",
    "    super(Feedforward, self).__init__()\n",
    "    self.hidden = nn.Linear(feature, hidden)\n",
    "    self.out = nn.Linear(hidden, 1)\n",
    " \n",
    "  def forward(self, x):\n",
    "    x = self.hidden(x)\n",
    "    y_hat = self.out(x)\n",
    "    return y_hat"
   ]
  },
  {
   "cell_type": "code",
   "execution_count": 26,
   "metadata": {},
   "outputs": [],
   "source": [
    "device = 'cuda:0'\n",
    "# 模型定义\n",
    "model = Feedforward(500, 5).to(device)\n",
    "# 超参数与前置步骤设置\n",
    "epoch_num = 5\n",
    "lr = 0.01\n",
    "feature_dim = 500\n",
    "opt = torch.optim.SGD(model.parameters(), lr = lr)\n",
    "loss = torch.nn.MSELoss(reduction='mean')\n",
    "batch_size = 128\n",
    "\n",
    "train_loss_list = []\n",
    "test_loss_list = []"
   ]
  },
  {
   "cell_type": "code",
   "execution_count": 27,
   "metadata": {},
   "outputs": [
    {
     "name": "stdout",
     "output_type": "stream",
     "text": [
      "epoch: 1, total loss: 0.004526\n",
      "epoch: 2, total loss: 0.000413\n",
      "epoch: 3, total loss: 0.000269\n",
      "epoch: 4, total loss: 0.000264\n",
      "epoch: 5, total loss: 0.000263\n"
     ]
    }
   ],
   "source": [
    "for epoch in range(epoch_num):\n",
    "    for x, y in data_iter(batch_size, x_train, y_train):\n",
    "        x, y = x.to(device), y.to(device)\n",
    "        y_hat = model.forward(x)\n",
    "        l = loss(y_hat, y)\n",
    "        opt.zero_grad()\n",
    "        l.backward()\n",
    "        opt.step()\n",
    "        train_loss_list.append(l.item()*100)\n",
    "\n",
    "    with torch.no_grad():\n",
    "        total_loss = 0\n",
    "        counter = 0\n",
    "        for x, y in data_iter(batch_size, x_test, y_test):\n",
    "            test_x, test_y = x.to(device), y.to(device)\n",
    "            test_pred = model.forward(test_x)\n",
    "\n",
    "            l = loss(test_pred, test_y).sum()\n",
    "            total_loss += l\n",
    "            counter += 1\n",
    "        test_loss_list.append(total_loss.item())\n",
    "        print('epoch: %d, total loss: %f'%(epoch + 1, total_loss / (counter+1)))"
   ]
  },
  {
   "cell_type": "markdown",
   "metadata": {},
   "source": [
    "绘制训练loss曲线"
   ]
  },
  {
   "cell_type": "code",
   "execution_count": 28,
   "metadata": {},
   "outputs": [
    {
     "data": {
      "image/png": "[encoded data removed]",
      "text/plain": [
       "<Figure size 432x288 with 1 Axes>"
      ]
     },
     "metadata": {
      "needs_background": "light"
     },
     "output_type": "display_data"
    }
   ],
   "source": [
    "x = [i + 1 for i in range(len(train_loss_list))]\n",
    "y = train_loss_list\n",
    "l1 = plt.plot(x, y, 'r--', label='train_loss')\n",
    "\n",
    "plt.title('Training Loss')\n",
    "plt.xlabel('step')\n",
    "plt.ylabel('loss value')\n",
    "plt.show()"
   ]
  },
  {
   "cell_type": "markdown",
   "metadata": {},
   "source": [
    "绘制验证loss曲线"
   ]
  },
  {
   "cell_type": "code",
   "execution_count": 29,
   "metadata": {},
   "outputs": [
    {
     "data": {
      "image/png": "[encoded data removed]",
      "text/plain": [
       "<Figure size 432x288 with 1 Axes>"
      ]
     },
     "metadata": {
      "needs_background": "light"
     },
     "output_type": "display_data"
    }
   ],
   "source": [
    "x = [i + 1 for i in range(len(test_loss_list))]\n",
    "y = test_loss_list\n",
    "l1 = plt.plot(x, y, 'r--', label='test_loss')\n",
    "\n",
    "plt.title('Validation Loss')\n",
    "plt.xlabel('epoch')\n",
    "plt.ylabel('loss value')\n",
    "plt.show()"
   ]
  }
 ],
 "metadata": {
  "kernelspec": {
   "display_name": "Python 3.9.7 ('base')",
   "language": "python",
   "name": "python3"
  },
  "language_info": {
   "codemirror_mode": {
    "name": "ipython",
    "version": 3
   },
   "file_extension": ".py",
   "mimetype": "text/x-python",
   "name": "python",
   "nbconvert_exporter": "python",
   "pygments_lexer": "ipython3",
   "version": "3.9.12"
  },
  "orig_nbformat": 4,
  "vscode": {
   "interpreter": {
    "hash": "bb47ef1ad79943d811bafa2fa84fcb47147f85a402b583945e5888afc6d949fa"
   }
  }
 },
 "nbformat": 4,
 "nbformat_minor": 2
}
