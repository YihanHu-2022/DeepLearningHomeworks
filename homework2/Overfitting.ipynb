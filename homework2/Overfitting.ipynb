{
 "cells": [
  {
   "cell_type": "code",
   "execution_count": 1,
   "metadata": {},
   "outputs": [],
   "source": [
    "#调用torch库\n",
    "import torch\n",
    "import torchvision\n",
    "import torchvision.transforms as transforms\n",
    "\n",
    "import torch.nn as nn\n",
    "import torch.nn.functional as F\n",
    "#调用numpy库\n",
    "import numpy as np\n",
    "#调用matplotlib库\n",
    "import matplotlib.pyplot as plt\n",
    "#调用random库\n",
    "import random"
   ]
  },
  {
   "cell_type": "code",
   "execution_count": 2,
   "metadata": {},
   "outputs": [],
   "source": [
    "train_dataset = torchvision.datasets.MNIST(root=\"../Datasets/MNIST\", train=True, transform=transforms.ToTensor(), download=True)\n",
    "test_dataset = torchvision.datasets.MNIST(root=\"../Datasets/MNIST\", train=False, transform=transforms.ToTensor())"
   ]
  },
  {
   "cell_type": "code",
   "execution_count": 3,
   "metadata": {},
   "outputs": [],
   "source": [
    "num_workers = 16\n",
    "batch_size = 32\n",
    "train_loader = torch.utils.data.DataLoader(train_dataset, batch_size=batch_size, shuffle=True, num_workers=num_workers)\n",
    "test_loader = torch.utils.data.DataLoader(test_dataset, batch_size=batch_size, shuffle=False, num_workers=num_workers)"
   ]
  },
  {
   "cell_type": "code",
   "execution_count": 4,
   "metadata": {},
   "outputs": [],
   "source": [
    "#使用课上给出的优化函数进行参数的学习优化\n",
    "def sgd(params, lr, batch_size):\n",
    "    for param in params:\n",
    "        param.data -= lr * param.grad / batch_size\n",
    "\n",
    "# 损失函数使用手动实现的交叉熵损失函数\n",
    "# y_hat为模型的预测值，而y为真实标签\n",
    "def Loss(y_hat, y):\n",
    "    return - torch.log(y_hat[range(len(y_hat)), y])"
   ]
  },
  {
   "cell_type": "code",
   "execution_count": 30,
   "metadata": {},
   "outputs": [],
   "source": [
    "class Feedforward_multiclass:\n",
    "    def __init__(self, image_size, class_num, opt, device, hidden=100):\n",
    "        self.w_in = torch.tensor(np.random.normal(0, 0.01, (image_size * image_size, hidden)), dtype=torch.float32).to(device)\n",
    "        self.b_in = torch.zeros(hidden, dtype=torch.float32).to(device)\n",
    "        self.w_in.requires_grad_(requires_grad=True)\n",
    "        self.b_in.requires_grad_(requires_grad=True) \n",
    "\n",
    "        self.w_out = torch.tensor(np.random.normal(0, 0.01, (hidden, class_num)), dtype=torch.float32).to(device)\n",
    "        self.b_out = torch.zeros(class_num, dtype=torch.float32).to(device)\n",
    "        self.w_out.requires_grad_(requires_grad=True)\n",
    "        self.b_out.requires_grad_(requires_grad=True) \n",
    "\n",
    "        self.opt = opt\n",
    "\n",
    "    def relu(self, x):\n",
    "        x[x < 0.] = 0.\n",
    "        return x \n",
    "\n",
    "    def softmax(self, x):\n",
    "        x_exp = torch.exp(x)\n",
    "        partition = x_exp.sum(1, keepdim=True)\n",
    "        return x_exp / partition\n",
    "\n",
    "\n",
    "    def forward(self, x):\n",
    "        x = torch.matmul(x, self.w_in) + self.b_in\n",
    "        x = self.relu(x)\n",
    "        x = torch.matmul(x, self.w_out) + self.b_out\n",
    "        return self.softmax(x)\n",
    "\n",
    "    def learn(self, lr, bs):\n",
    "        self.opt([self.w_in, self.b_in, self.w_out, self.b_out], lr, bs)\n",
    "\n",
    "    def reset_grad(self):\n",
    "        self.w_in.grad.data.zero_()\n",
    "        self.b_in.grad.data.zero_()\n",
    "        self.w_out.grad.data.zero_()\n",
    "        self.b_out.grad.data.zero_()"
   ]
  },
  {
   "cell_type": "code",
   "execution_count": 6,
   "metadata": {},
   "outputs": [],
   "source": [
    "# 计算预测的准确度\n",
    "def accuracy(y_hat, y):  #@save\n",
    "    y_hat = y_hat.argmax(axis=1)\n",
    "    cmp = y_hat.type(y.dtype) == y\n",
    "    return float(cmp.type(y.dtype).sum())"
   ]
  },
  {
   "cell_type": "code",
   "execution_count": 18,
   "metadata": {},
   "outputs": [],
   "source": [
    "def l2_penalty(w):\n",
    "    return (w**2).sum() / 2"
   ]
  },
  {
   "cell_type": "markdown",
   "metadata": {},
   "source": [
    "加入L2正则进行约束"
   ]
  },
  {
   "cell_type": "code",
   "execution_count": 32,
   "metadata": {},
   "outputs": [
    {
     "name": "stdout",
     "output_type": "stream",
     "text": [
      "epoch: 1, total loss: 11.739163, total_acc: 0.904353\n",
      "epoch: 2, total loss: 10.376230, total_acc: 0.914936\n",
      "epoch: 3, total loss: 9.657497, total_acc: 0.921825\n",
      "epoch: 4, total loss: 9.257785, total_acc: 0.925619\n",
      "epoch: 5, total loss: 9.010750, total_acc: 0.929313\n",
      "epoch: 6, total loss: 8.925654, total_acc: 0.926917\n",
      "epoch: 7, total loss: 8.649938, total_acc: 0.932408\n",
      "epoch: 8, total loss: 8.570171, total_acc: 0.931709\n",
      "epoch: 9, total loss: 8.663195, total_acc: 0.928015\n",
      "epoch: 10, total loss: 8.424509, total_acc: 0.934305\n",
      "epoch: 11, total loss: 8.461718, total_acc: 0.933207\n",
      "epoch: 12, total loss: 8.476876, total_acc: 0.933706\n",
      "epoch: 13, total loss: 8.356206, total_acc: 0.936601\n",
      "epoch: 14, total loss: 8.140080, total_acc: 0.936901\n",
      "epoch: 15, total loss: 8.183252, total_acc: 0.937899\n",
      "epoch: 16, total loss: 8.152566, total_acc: 0.936901\n",
      "epoch: 17, total loss: 8.147599, total_acc: 0.937400\n",
      "epoch: 18, total loss: 8.160355, total_acc: 0.935803\n",
      "epoch: 19, total loss: 8.127863, total_acc: 0.935903\n",
      "epoch: 20, total loss: 8.149180, total_acc: 0.938199\n"
     ]
    }
   ],
   "source": [
    "# 超参数设置\n",
    "epoch_num = 20\n",
    "lr = 0.03\n",
    "image_size = 28\n",
    "class_num = 10\n",
    "device = 'cuda:0'\n",
    "opt = sgd\n",
    "loss = Loss\n",
    "net = Feedforward_multiclass(image_size, class_num, sgd, device)\n",
    "train_loss_list = []\n",
    "test_loss_list = []\n",
    "test_acc_list = []\n",
    "lambd = 0.01\n",
    "for epoch in range(epoch_num):\n",
    "    for i, datas in enumerate(train_loader):\n",
    "        train_x, train_label = datas[0].to(device), datas[1].to(device)\n",
    "        # pre-proccess\n",
    "        train_x = train_x.squeeze(1)\n",
    "        train_x = train_x.flatten(1, 2)\n",
    "        train_pred = net.forward(train_x)\n",
    "        l = loss(train_pred, train_label) + lambd * l2_penalty(net.w_in) + lambd * l2_penalty(net.w_out)\n",
    "        l = l.sum()\n",
    "        l.backward()\n",
    "        net.learn(lr, batch_size)\n",
    "        net.reset_grad()\n",
    "        train_loss_list.append(l.item())\n",
    "    \n",
    "    with torch.no_grad():\n",
    "        total_loss = 0\n",
    "        total_acc = 0\n",
    "        for i, datas in enumerate(test_loader):\n",
    "            test_x, test_label = datas[0].to(device), datas[1].to(device)\n",
    "            # pre-proccess\n",
    "            test_x = test_x.squeeze(1)\n",
    "            test_x = test_x.flatten(1, 2)\n",
    "            test_pred = net.forward(test_x)\n",
    "\n",
    "            l = loss(test_pred, test_label).sum()\n",
    "            total_loss += l\n",
    "\n",
    "            acc = accuracy(test_pred, test_label) / len(test_pred)\n",
    "            total_acc += acc\n",
    "\n",
    "        test_loss_list.append(total_loss.item())\n",
    "        test_acc_list.append(acc)\n",
    "        print('epoch: %d, total loss: %f, total_acc: %f'%(epoch + 1, total_loss / (i+1), total_acc / (i+1)))"
   ]
  },
  {
   "cell_type": "markdown",
   "metadata": {},
   "source": [
    "验证损失变化"
   ]
  },
  {
   "cell_type": "code",
   "execution_count": 33,
   "metadata": {},
   "outputs": [
    {
     "data": {
      "image/png": "[encoded data removed]",
      "text/plain": [
       "<Figure size 432x288 with 1 Axes>"
      ]
     },
     "metadata": {
      "needs_background": "light"
     },
     "output_type": "display_data"
    }
   ],
   "source": [
    "x = [i + 1 for i in range(len(test_loss_list))]\n",
    "y = test_loss_list\n",
    "l1 = plt.plot(x, y, 'r--', label='test_loss')\n",
    "\n",
    "plt.title('Validation Loss')\n",
    "plt.xlabel('epoch')\n",
    "plt.ylabel('loss value')\n",
    "plt.show()"
   ]
  },
  {
   "cell_type": "markdown",
   "metadata": {},
   "source": [
    "模型中加入dropout进行约束"
   ]
  },
  {
   "cell_type": "code",
   "execution_count": 38,
   "metadata": {},
   "outputs": [],
   "source": [
    "class Feedforward_multiclass:\n",
    "    def __init__(self, image_size, class_num, drop_out, opt, device, hidden=100):\n",
    "        self.w_in = torch.tensor(np.random.normal(0, 0.01, (image_size * image_size, hidden)), dtype=torch.float32).to(device)\n",
    "        self.b_in = torch.zeros(hidden, dtype=torch.float32).to(device)\n",
    "        self.w_in.requires_grad_(requires_grad=True)\n",
    "        self.b_in.requires_grad_(requires_grad=True) \n",
    "\n",
    "        self.w_out = torch.tensor(np.random.normal(0, 0.01, (hidden, class_num)), dtype=torch.float32).to(device)\n",
    "        self.b_out = torch.zeros(class_num, dtype=torch.float32).to(device)\n",
    "        self.w_out.requires_grad_(requires_grad=True)\n",
    "        self.b_out.requires_grad_(requires_grad=True) \n",
    "\n",
    "        self.dropout_rate = drop_out\n",
    "        self.opt = opt\n",
    "\n",
    "    def relu(self, x):\n",
    "        x[x < 0.] = 0.\n",
    "        return x \n",
    "\n",
    "    def softmax(self, x):\n",
    "        x_exp = torch.exp(x)\n",
    "        partition = x_exp.sum(1, keepdim=True)\n",
    "        return x_exp / partition\n",
    "\n",
    "    def dropout(self, x):\n",
    "        keep_prob = 1 - self.dropout_rate\n",
    "        if keep_prob == 0:\n",
    "            return torch.zeros_like(x, device=x.device)\n",
    "        mask = (torch.rand(x.shape, device=x.device) < keep_prob).float()\n",
    "        return mask * x / keep_prob\n",
    "\n",
    "    def forward(self, x):\n",
    "        x = torch.matmul(x, self.w_in) + self.b_in\n",
    "        x = self.relu(x)\n",
    "        x = self.dropout(x)\n",
    "        x = torch.matmul(x, self.w_out) + self.b_out\n",
    "        return self.softmax(x)\n",
    "\n",
    "    def learn(self, lr, bs):\n",
    "        self.opt([self.w_in, self.b_in, self.w_out, self.b_out], lr, bs)\n",
    "\n",
    "    def reset_grad(self):\n",
    "        self.w_in.grad.data.zero_()\n",
    "        self.b_in.grad.data.zero_()\n",
    "        self.w_out.grad.data.zero_()\n",
    "        self.b_out.grad.data.zero_()"
   ]
  },
  {
   "cell_type": "code",
   "execution_count": 39,
   "metadata": {},
   "outputs": [
    {
     "name": "stdout",
     "output_type": "stream",
     "text": [
      "epoch: 1, total loss: 13.918852, total_acc: 0.878195\n",
      "epoch: 2, total loss: 10.686533, total_acc: 0.903155\n",
      "epoch: 3, total loss: 9.241076, total_acc: 0.917432\n",
      "epoch: 4, total loss: 8.298319, total_acc: 0.923822\n",
      "epoch: 5, total loss: 7.470752, total_acc: 0.931310\n",
      "epoch: 6, total loss: 7.180047, total_acc: 0.933506\n",
      "epoch: 7, total loss: 6.692270, total_acc: 0.938598\n",
      "epoch: 8, total loss: 6.403076, total_acc: 0.940595\n",
      "epoch: 9, total loss: 6.484801, total_acc: 0.940196\n",
      "epoch: 10, total loss: 6.359005, total_acc: 0.940595\n",
      "epoch: 11, total loss: 6.169573, total_acc: 0.942093\n",
      "epoch: 12, total loss: 5.952738, total_acc: 0.944189\n",
      "epoch: 13, total loss: 5.859929, total_acc: 0.946885\n",
      "epoch: 14, total loss: 6.003254, total_acc: 0.944988\n",
      "epoch: 15, total loss: 5.528094, total_acc: 0.950080\n",
      "epoch: 16, total loss: 5.839468, total_acc: 0.947784\n",
      "epoch: 17, total loss: 5.612897, total_acc: 0.950180\n",
      "epoch: 18, total loss: 5.530610, total_acc: 0.949980\n",
      "epoch: 19, total loss: 5.461634, total_acc: 0.949481\n",
      "epoch: 20, total loss: 5.329789, total_acc: 0.950779\n"
     ]
    }
   ],
   "source": [
    "# 超参数设置\n",
    "epoch_num = 20\n",
    "lr = 0.03\n",
    "image_size = 28\n",
    "class_num = 10\n",
    "device = 'cuda:0'\n",
    "opt = sgd\n",
    "loss = Loss\n",
    "net = Feedforward_multiclass(image_size, class_num, 0.5, sgd, device)\n",
    "train_loss_list = []\n",
    "test_loss_list = []\n",
    "test_acc_list = []\n",
    "for epoch in range(epoch_num):\n",
    "    for i, datas in enumerate(train_loader):\n",
    "        train_x, train_label = datas[0].to(device), datas[1].to(device)\n",
    "        # pre-proccess\n",
    "        train_x = train_x.squeeze(1)\n",
    "        train_x = train_x.flatten(1, 2)\n",
    "        train_pred = net.forward(train_x)\n",
    "        l = loss(train_pred, train_label)\n",
    "        l = l.sum()\n",
    "        l.backward()\n",
    "        net.learn(lr, batch_size)\n",
    "        net.reset_grad()\n",
    "        train_loss_list.append(l.item())\n",
    "    \n",
    "    with torch.no_grad():\n",
    "        total_loss = 0\n",
    "        total_acc = 0\n",
    "        for i, datas in enumerate(test_loader):\n",
    "            test_x, test_label = datas[0].to(device), datas[1].to(device)\n",
    "            # pre-proccess\n",
    "            test_x = test_x.squeeze(1)\n",
    "            test_x = test_x.flatten(1, 2)\n",
    "            test_pred = net.forward(test_x)\n",
    "\n",
    "            l = loss(test_pred, test_label).sum()\n",
    "            total_loss += l\n",
    "\n",
    "            acc = accuracy(test_pred, test_label) / len(test_pred)\n",
    "            total_acc += acc\n",
    "\n",
    "        test_loss_list.append(total_loss.item())\n",
    "        test_acc_list.append(acc)\n",
    "        print('epoch: %d, total loss: %f, total_acc: %f'%(epoch + 1, total_loss / (i+1), total_acc / (i+1)))"
   ]
  },
  {
   "cell_type": "markdown",
   "metadata": {},
   "source": [
    "验证损失变化"
   ]
  },
  {
   "cell_type": "code",
   "execution_count": 40,
   "metadata": {},
   "outputs": [
    {
     "data": {
      "image/png": "[encoded data removed]",
      "text/plain": [
       "<Figure size 432x288 with 1 Axes>"
      ]
     },
     "metadata": {
      "needs_background": "light"
     },
     "output_type": "display_data"
    }
   ],
   "source": [
    "x = [i + 1 for i in range(len(test_loss_list))]\n",
    "y = test_loss_list\n",
    "l1 = plt.plot(x, y, 'r--', label='test_loss')\n",
    "\n",
    "plt.title('Validation Loss')\n",
    "plt.xlabel('epoch')\n",
    "plt.ylabel('loss value')\n",
    "plt.show()"
   ]
  },
  {
   "cell_type": "markdown",
   "metadata": {},
   "source": [
    "利用torch自带优化器实现L2正则"
   ]
  },
  {
   "cell_type": "code",
   "execution_count": 36,
   "metadata": {},
   "outputs": [],
   "source": [
    "class FlattenLayer(torch.nn.Module):\n",
    "    def __init__(self):\n",
    "        super(FlattenLayer, self).__init__()\n",
    "    def forward(self, x):\n",
    "        return x.view(x.shape[0], -1)\n",
    "\n",
    "class Feedforward(nn.Module):\n",
    "    def __init__(self, image_size, class_num, layer_num, hidden_dim, activation, drop_out=0):\n",
    "        super(Feedforward, self).__init__()\n",
    "\n",
    "        self.flatten = FlattenLayer()\n",
    "        self.linear_in = nn.Linear(image_size*image_size, hidden_dim)\n",
    "        hidden_layers = []\n",
    "        hidden_layers.append(activation)\n",
    "        if drop_out > 0:\n",
    "            hidden_layers.append(nn.Dropout(p=drop_out))\n",
    "        \n",
    "        for _ in range(layer_num - 1):\n",
    "            hidden_layers.append(nn.Linear(hidden_dim, hidden_dim))\n",
    "            hidden_layers.append(activation)\n",
    "            if drop_out > 0:\n",
    "                hidden_layers.append(nn.Dropout(p=drop_out))\n",
    "        self.hidden_layers = nn.Sequential(*hidden_layers)\n",
    "        self.linear_out = nn.Linear(hidden_dim, class_num)\n",
    "        self.softmax = nn.Softmax()\n",
    "\n",
    "    def forward(self, x):\n",
    "        x = self.flatten(x)\n",
    "        x = self.linear_in(x)\n",
    "        x = self.hidden_layers(x)\n",
    "        x = self.linear_out(x)\n",
    "        return self.softmax(x)"
   ]
  },
  {
   "cell_type": "code",
   "execution_count": 44,
   "metadata": {},
   "outputs": [
    {
     "name": "stderr",
     "output_type": "stream",
     "text": [
      "/tmp/ipykernel_1364635/185350952.py:32: UserWarning: Implicit dimension choice for softmax has been deprecated. Change the call to include dim=X as an argument.\n",
      "  return self.softmax(x)\n"
     ]
    },
    {
     "name": "stdout",
     "output_type": "stream",
     "text": [
      "epoch: 1, total loss: 1.798728, total_acc: 0.737720\n",
      "epoch: 2, total loss: 1.742050, total_acc: 0.819089\n",
      "epoch: 3, total loss: 1.702451, total_acc: 0.832768\n",
      "epoch: 4, total loss: 1.693555, total_acc: 0.835663\n",
      "epoch: 5, total loss: 1.691407, total_acc: 0.835663\n",
      "epoch: 6, total loss: 1.690773, total_acc: 0.837859\n",
      "epoch: 7, total loss: 1.689760, total_acc: 0.838658\n",
      "epoch: 8, total loss: 1.689410, total_acc: 0.837460\n",
      "epoch: 9, total loss: 1.688345, total_acc: 0.838259\n",
      "epoch: 10, total loss: 1.683626, total_acc: 0.845946\n",
      "epoch: 11, total loss: 1.652238, total_acc: 0.892372\n",
      "epoch: 12, total loss: 1.645478, total_acc: 0.895966\n",
      "epoch: 13, total loss: 1.643020, total_acc: 0.898562\n",
      "epoch: 14, total loss: 1.642894, total_acc: 0.899461\n",
      "epoch: 15, total loss: 1.640440, total_acc: 0.899860\n",
      "epoch: 16, total loss: 1.639749, total_acc: 0.902955\n",
      "epoch: 17, total loss: 1.639820, total_acc: 0.902556\n",
      "epoch: 18, total loss: 1.639041, total_acc: 0.902855\n",
      "epoch: 19, total loss: 1.638271, total_acc: 0.902157\n",
      "epoch: 20, total loss: 1.637836, total_acc: 0.903255\n"
     ]
    }
   ],
   "source": [
    "# 超参数设置\n",
    "epoch_num = 20\n",
    "lr = 0.03\n",
    "image_size = 28\n",
    "class_num = 10\n",
    "device = 'cuda:0'\n",
    "\n",
    "layer_num  = 1   # 隐藏层数为1层\n",
    "hidden_dim = 100 # 隐藏层单元数为10\n",
    "drop_out   = 0    # 不设置dropout\n",
    "activation = nn.ReLU() #激活函数选用ReLU\n",
    "wd = 0.01  #惩罚系数选为0.01\n",
    "net = Feedforward(image_size=image_size, class_num=class_num, layer_num=layer_num, hidden_dim=hidden_dim, activation=activation, drop_out=drop_out).to(device)\n",
    "opt = torch.optim.SGD(net.parameters(), lr=0.03, weight_decay=wd) #在weight decay处进行设置\n",
    "loss = nn.CrossEntropyLoss()\n",
    "\n",
    "relu_train_loss_list = []\n",
    "relu_test_loss_list = []\n",
    "relu_test_acc_list = []\n",
    "for epoch in range(epoch_num):\n",
    "    for i, datas in enumerate(train_loader):\n",
    "        train_x, train_label = datas[0].to(device), datas[1].to(device)\n",
    "        train_pred = net.forward(train_x)\n",
    "        l = loss(train_pred, train_label).sum()\n",
    "        opt.zero_grad()\n",
    "        l.backward()\n",
    "        opt.step()\n",
    "        relu_train_loss_list.append(l.item())\n",
    "    \n",
    "    with torch.no_grad():\n",
    "        total_loss = 0\n",
    "        total_acc = 0\n",
    "        for i, datas in enumerate(test_loader):\n",
    "            test_x, test_label = datas[0].to(device), datas[1].to(device)\n",
    "            test_pred = net.forward(test_x)\n",
    "\n",
    "            l = loss(test_pred, test_label).sum()\n",
    "            total_loss += l\n",
    "\n",
    "            acc = accuracy(test_pred, test_label) / len(test_pred)\n",
    "            total_acc += acc\n",
    "\n",
    "        relu_test_loss_list.append(total_loss.item())\n",
    "        relu_test_acc_list.append(acc)\n",
    "        print('epoch: %d, total loss: %f, total_acc: %f'%(epoch + 1, total_loss / (i+1), total_acc / (i+1)))"
   ]
  },
  {
   "cell_type": "code",
   "execution_count": 45,
   "metadata": {},
   "outputs": [
    {
     "name": "stderr",
     "output_type": "stream",
     "text": [
      "/tmp/ipykernel_1364635/185350952.py:32: UserWarning: Implicit dimension choice for softmax has been deprecated. Change the call to include dim=X as an argument.\n",
      "  return self.softmax(x)\n"
     ]
    },
    {
     "name": "stdout",
     "output_type": "stream",
     "text": [
      "epoch: 1, total loss: 1.743027, total_acc: 0.806110\n",
      "epoch: 2, total loss: 1.673170, total_acc: 0.834065\n",
      "epoch: 3, total loss: 1.662790, total_acc: 0.839058\n",
      "epoch: 4, total loss: 1.651278, total_acc: 0.861621\n",
      "epoch: 5, total loss: 1.613012, total_acc: 0.899161\n",
      "epoch: 6, total loss: 1.604303, total_acc: 0.906350\n",
      "epoch: 7, total loss: 1.601392, total_acc: 0.908147\n",
      "epoch: 8, total loss: 1.599800, total_acc: 0.909645\n",
      "epoch: 9, total loss: 1.598150, total_acc: 0.911142\n",
      "epoch: 10, total loss: 1.596546, total_acc: 0.913938\n",
      "epoch: 11, total loss: 1.596078, total_acc: 0.912340\n",
      "epoch: 12, total loss: 1.594677, total_acc: 0.916633\n",
      "epoch: 13, total loss: 1.594551, total_acc: 0.915435\n",
      "epoch: 14, total loss: 1.593611, total_acc: 0.917033\n",
      "epoch: 15, total loss: 1.593344, total_acc: 0.917133\n",
      "epoch: 16, total loss: 1.592076, total_acc: 0.918830\n",
      "epoch: 17, total loss: 1.591430, total_acc: 0.920727\n",
      "epoch: 18, total loss: 1.592086, total_acc: 0.918131\n",
      "epoch: 19, total loss: 1.590738, total_acc: 0.921226\n",
      "epoch: 20, total loss: 1.590367, total_acc: 0.920427\n"
     ]
    }
   ],
   "source": [
    "# 超参数设置\n",
    "epoch_num = 20\n",
    "lr = 0.03\n",
    "image_size = 28\n",
    "class_num = 10\n",
    "device = 'cuda:0'\n",
    "\n",
    "layer_num  = 1   # 隐藏层数为1层\n",
    "hidden_dim = 100 # 隐藏层单元数为10\n",
    "drop_out   = 0    # 不设置dropout\n",
    "activation = nn.ReLU() #激活函数选用ReLU\n",
    "wd = 0.005  #惩罚系数选为0.005\n",
    "net = Feedforward(image_size=image_size, class_num=class_num, layer_num=layer_num, hidden_dim=hidden_dim, activation=activation, drop_out=drop_out).to(device)\n",
    "opt = torch.optim.SGD(net.parameters(), lr=0.03, weight_decay=wd) #在weight decay处进行设置\n",
    "loss = nn.CrossEntropyLoss()\n",
    "\n",
    "relu2_train_loss_list = []\n",
    "relu2_test_loss_list = []\n",
    "relu2_test_acc_list = []\n",
    "for epoch in range(epoch_num):\n",
    "    for i, datas in enumerate(train_loader):\n",
    "        train_x, train_label = datas[0].to(device), datas[1].to(device)\n",
    "        train_pred = net.forward(train_x)\n",
    "        l = loss(train_pred, train_label).sum()\n",
    "        opt.zero_grad()\n",
    "        l.backward()\n",
    "        opt.step()\n",
    "        relu2_train_loss_list.append(l.item())\n",
    "    \n",
    "    with torch.no_grad():\n",
    "        total_loss = 0\n",
    "        total_acc = 0\n",
    "        for i, datas in enumerate(test_loader):\n",
    "            test_x, test_label = datas[0].to(device), datas[1].to(device)\n",
    "            test_pred = net.forward(test_x)\n",
    "\n",
    "            l = loss(test_pred, test_label).sum()\n",
    "            total_loss += l\n",
    "\n",
    "            acc = accuracy(test_pred, test_label) / len(test_pred)\n",
    "            total_acc += acc\n",
    "\n",
    "        relu2_test_loss_list.append(total_loss.item())\n",
    "        relu2_test_acc_list.append(acc)\n",
    "        print('epoch: %d, total loss: %f, total_acc: %f'%(epoch + 1, total_loss / (i+1), total_acc / (i+1)))"
   ]
  },
  {
   "cell_type": "code",
   "execution_count": 46,
   "metadata": {},
   "outputs": [
    {
     "name": "stderr",
     "output_type": "stream",
     "text": [
      "/tmp/ipykernel_1364635/185350952.py:32: UserWarning: Implicit dimension choice for softmax has been deprecated. Change the call to include dim=X as an argument.\n",
      "  return self.softmax(x)\n"
     ]
    },
    {
     "name": "stdout",
     "output_type": "stream",
     "text": [
      "epoch: 1, total loss: 1.712022, total_acc: 0.817292\n",
      "epoch: 2, total loss: 1.650101, total_acc: 0.838359\n",
      "epoch: 3, total loss: 1.637230, total_acc: 0.843450\n",
      "epoch: 4, total loss: 1.631142, total_acc: 0.845647\n",
      "epoch: 5, total loss: 1.612033, total_acc: 0.877696\n",
      "epoch: 6, total loss: 1.575240, total_acc: 0.910144\n",
      "epoch: 7, total loss: 1.565301, total_acc: 0.917831\n",
      "epoch: 8, total loss: 1.559225, total_acc: 0.922324\n",
      "epoch: 9, total loss: 1.556092, total_acc: 0.924121\n",
      "epoch: 10, total loss: 1.553040, total_acc: 0.927716\n",
      "epoch: 11, total loss: 1.551671, total_acc: 0.927516\n",
      "epoch: 12, total loss: 1.549331, total_acc: 0.930212\n",
      "epoch: 13, total loss: 1.547131, total_acc: 0.932009\n",
      "epoch: 14, total loss: 1.545787, total_acc: 0.933407\n",
      "epoch: 15, total loss: 1.544200, total_acc: 0.935004\n",
      "epoch: 16, total loss: 1.543326, total_acc: 0.936801\n",
      "epoch: 17, total loss: 1.542821, total_acc: 0.937300\n",
      "epoch: 18, total loss: 1.541132, total_acc: 0.938698\n",
      "epoch: 19, total loss: 1.540141, total_acc: 0.938498\n",
      "epoch: 20, total loss: 1.539131, total_acc: 0.940695\n"
     ]
    }
   ],
   "source": [
    "image_size = 28\n",
    "class_num = 10\n",
    "device = 'cuda:0'\n",
    "\n",
    "layer_num  = 1   # 隐藏层数为1层\n",
    "hidden_dim = 100 # 隐藏层单元数为10\n",
    "drop_out   = 0    # 不设置dropout\n",
    "activation = nn.ReLU() #激活函数选用ReLU\n",
    "wd = 0.001  #惩罚系数选为0.001\n",
    "net = Feedforward(image_size=image_size, class_num=class_num, layer_num=layer_num, hidden_dim=hidden_dim, activation=activation, drop_out=drop_out).to(device)\n",
    "opt = torch.optim.SGD(net.parameters(), lr=0.03, weight_decay=wd) #在weight decay处进行设置\n",
    "loss = nn.CrossEntropyLoss()\n",
    "\n",
    "relu3_train_loss_list = []\n",
    "relu3_test_loss_list = []\n",
    "relu3_test_acc_list = []\n",
    "for epoch in range(epoch_num):\n",
    "    for i, datas in enumerate(train_loader):\n",
    "        train_x, train_label = datas[0].to(device), datas[1].to(device)\n",
    "        train_pred = net.forward(train_x)\n",
    "        l = loss(train_pred, train_label).sum()\n",
    "        opt.zero_grad()\n",
    "        l.backward()\n",
    "        opt.step()\n",
    "        relu3_train_loss_list.append(l.item())\n",
    "    \n",
    "    with torch.no_grad():\n",
    "        total_loss = 0\n",
    "        total_acc = 0\n",
    "        for i, datas in enumerate(test_loader):\n",
    "            test_x, test_label = datas[0].to(device), datas[1].to(device)\n",
    "            test_pred = net.forward(test_x)\n",
    "\n",
    "            l = loss(test_pred, test_label).sum()\n",
    "            total_loss += l\n",
    "\n",
    "            acc = accuracy(test_pred, test_label) / len(test_pred)\n",
    "            total_acc += acc\n",
    "\n",
    "        relu3_test_loss_list.append(total_loss.item())\n",
    "        relu3_test_acc_list.append(acc)\n",
    "        print('epoch: %d, total loss: %f, total_acc: %f'%(epoch + 1, total_loss / (i+1), total_acc / (i+1)))"
   ]
  },
  {
   "cell_type": "markdown",
   "metadata": {},
   "source": [
    "探究惩罚项的权重对实验结果的影响（可用loss曲线进行展示）"
   ]
  },
  {
   "cell_type": "code",
   "execution_count": 47,
   "metadata": {},
   "outputs": [
    {
     "data": {
      "image/png": "[encoded data removed]",
      "text/plain": [
       "<Figure size 432x288 with 1 Axes>"
      ]
     },
     "metadata": {
      "needs_background": "light"
     },
     "output_type": "display_data"
    }
   ],
   "source": [
    "x = [i + 1 for i in range(len(relu_test_loss_list))]\n",
    "y1 = relu_test_loss_list\n",
    "y2 = relu2_test_loss_list\n",
    "y3 = relu3_test_loss_list\n",
    "l1 = plt.plot(x, y1, 'r--', label='penalty = 0.01')\n",
    "l2 = plt.plot(x, y2, 'y--', label='penalty = 0.005')\n",
    "l3 = plt.plot(x, y3, 'g--', label='penalty = 0.001')\n",
    "\n",
    "plt.title('Validation Losses')\n",
    "plt.xlabel('epoch')\n",
    "plt.ylabel('loss value')\n",
    "plt.legend()\n",
    "plt.show()"
   ]
  },
  {
   "cell_type": "markdown",
   "metadata": {},
   "source": [
    "利用torch自带优化器实现dropout"
   ]
  },
  {
   "cell_type": "code",
   "execution_count": 48,
   "metadata": {},
   "outputs": [
    {
     "name": "stderr",
     "output_type": "stream",
     "text": [
      "/tmp/ipykernel_1364635/185350952.py:32: UserWarning: Implicit dimension choice for softmax has been deprecated. Change the call to include dim=X as an argument.\n",
      "  return self.softmax(x)\n"
     ]
    },
    {
     "name": "stdout",
     "output_type": "stream",
     "text": [
      "epoch: 1, total loss: 1.751507, total_acc: 0.780252\n",
      "epoch: 2, total loss: 1.670179, total_acc: 0.817792\n",
      "epoch: 3, total loss: 1.650648, total_acc: 0.828275\n",
      "epoch: 4, total loss: 1.639189, total_acc: 0.836362\n",
      "epoch: 5, total loss: 1.605046, total_acc: 0.883986\n",
      "epoch: 6, total loss: 1.582783, total_acc: 0.897564\n",
      "epoch: 7, total loss: 1.571073, total_acc: 0.905451\n",
      "epoch: 8, total loss: 1.564301, total_acc: 0.911542\n",
      "epoch: 9, total loss: 1.558213, total_acc: 0.918031\n",
      "epoch: 10, total loss: 1.553121, total_acc: 0.919728\n",
      "epoch: 11, total loss: 1.550828, total_acc: 0.920527\n",
      "epoch: 12, total loss: 1.548017, total_acc: 0.923722\n",
      "epoch: 13, total loss: 1.543696, total_acc: 0.927716\n",
      "epoch: 14, total loss: 1.541705, total_acc: 0.928714\n",
      "epoch: 15, total loss: 1.539446, total_acc: 0.931410\n",
      "epoch: 16, total loss: 1.538072, total_acc: 0.932308\n",
      "epoch: 17, total loss: 1.534930, total_acc: 0.936002\n",
      "epoch: 18, total loss: 1.533710, total_acc: 0.936402\n",
      "epoch: 19, total loss: 1.534758, total_acc: 0.934605\n",
      "epoch: 20, total loss: 1.532269, total_acc: 0.936002\n"
     ]
    }
   ],
   "source": [
    "image_size = 28\n",
    "class_num = 10\n",
    "device = 'cuda:0'\n",
    "\n",
    "layer_num  = 1   # 隐藏层数为1层\n",
    "hidden_dim = 100 # 隐藏层单元数为10\n",
    "drop_out   = 0.3    # 设置dropout rate 0.3\n",
    "activation = nn.ReLU() #激活函数选用ReLU\n",
    "net = Feedforward(image_size=image_size, class_num=class_num, layer_num=layer_num, hidden_dim=hidden_dim, activation=activation, drop_out=drop_out).to(device)\n",
    "opt = torch.optim.SGD(net.parameters(), lr=0.03)\n",
    "loss = nn.CrossEntropyLoss()\n",
    "\n",
    "dp3_train_loss_list = []\n",
    "dp3_test_loss_list = []\n",
    "dp3_test_acc_list = []\n",
    "for epoch in range(epoch_num):\n",
    "    for i, datas in enumerate(train_loader):\n",
    "        train_x, train_label = datas[0].to(device), datas[1].to(device)\n",
    "        train_pred = net.forward(train_x)\n",
    "        l = loss(train_pred, train_label).sum()\n",
    "        opt.zero_grad()\n",
    "        l.backward()\n",
    "        opt.step()\n",
    "        dp3_train_loss_list.append(l.item())\n",
    "    \n",
    "    with torch.no_grad():\n",
    "        total_loss = 0\n",
    "        total_acc = 0\n",
    "        for i, datas in enumerate(test_loader):\n",
    "            test_x, test_label = datas[0].to(device), datas[1].to(device)\n",
    "            test_pred = net.forward(test_x)\n",
    "\n",
    "            l = loss(test_pred, test_label).sum()\n",
    "            total_loss += l\n",
    "\n",
    "            acc = accuracy(test_pred, test_label) / len(test_pred)\n",
    "            total_acc += acc\n",
    "\n",
    "        dp3_test_loss_list.append(total_loss.item())\n",
    "        dp3_test_acc_list.append(acc)\n",
    "        print('epoch: %d, total loss: %f, total_acc: %f'%(epoch + 1, total_loss / (i+1), total_acc / (i+1)))"
   ]
  },
  {
   "cell_type": "code",
   "execution_count": 49,
   "metadata": {},
   "outputs": [
    {
     "name": "stderr",
     "output_type": "stream",
     "text": [
      "/tmp/ipykernel_1364635/185350952.py:32: UserWarning: Implicit dimension choice for softmax has been deprecated. Change the call to include dim=X as an argument.\n",
      "  return self.softmax(x)\n"
     ]
    },
    {
     "name": "stdout",
     "output_type": "stream",
     "text": [
      "epoch: 1, total loss: 1.775633, total_acc: 0.752296\n",
      "epoch: 2, total loss: 1.687999, total_acc: 0.801418\n",
      "epoch: 3, total loss: 1.663803, total_acc: 0.818690\n",
      "epoch: 4, total loss: 1.651702, total_acc: 0.824681\n",
      "epoch: 5, total loss: 1.640304, total_acc: 0.832768\n",
      "epoch: 6, total loss: 1.603128, total_acc: 0.884385\n",
      "epoch: 7, total loss: 1.587139, total_acc: 0.891873\n",
      "epoch: 8, total loss: 1.579043, total_acc: 0.899760\n",
      "epoch: 9, total loss: 1.573943, total_acc: 0.904253\n",
      "epoch: 10, total loss: 1.569901, total_acc: 0.905351\n",
      "epoch: 11, total loss: 1.565573, total_acc: 0.908147\n",
      "epoch: 12, total loss: 1.560987, total_acc: 0.911641\n",
      "epoch: 13, total loss: 1.559652, total_acc: 0.913638\n",
      "epoch: 14, total loss: 1.557268, total_acc: 0.913838\n",
      "epoch: 15, total loss: 1.552656, total_acc: 0.919030\n",
      "epoch: 16, total loss: 1.549815, total_acc: 0.923223\n",
      "epoch: 17, total loss: 1.549319, total_acc: 0.922724\n",
      "epoch: 18, total loss: 1.549573, total_acc: 0.920228\n",
      "epoch: 19, total loss: 1.545187, total_acc: 0.926118\n",
      "epoch: 20, total loss: 1.544912, total_acc: 0.926518\n"
     ]
    }
   ],
   "source": [
    "image_size = 28\n",
    "class_num = 10\n",
    "device = 'cuda:0'\n",
    "\n",
    "layer_num  = 1   # 隐藏层数为1层\n",
    "hidden_dim = 100 # 隐藏层单元数为10\n",
    "drop_out   = 0.5    # 设置dropout rate 0.5\n",
    "activation = nn.ReLU() #激活函数选用ReLU\n",
    "net = Feedforward(image_size=image_size, class_num=class_num, layer_num=layer_num, hidden_dim=hidden_dim, activation=activation, drop_out=drop_out).to(device)\n",
    "opt = torch.optim.SGD(net.parameters(), lr=0.03)\n",
    "loss = nn.CrossEntropyLoss()\n",
    "\n",
    "dp5_train_loss_list = []\n",
    "dp5_test_loss_list = []\n",
    "dp5_test_acc_list = []\n",
    "for epoch in range(epoch_num):\n",
    "    for i, datas in enumerate(train_loader):\n",
    "        train_x, train_label = datas[0].to(device), datas[1].to(device)\n",
    "        train_pred = net.forward(train_x)\n",
    "        l = loss(train_pred, train_label).sum()\n",
    "        opt.zero_grad()\n",
    "        l.backward()\n",
    "        opt.step()\n",
    "        dp5_train_loss_list.append(l.item())\n",
    "    \n",
    "    with torch.no_grad():\n",
    "        total_loss = 0\n",
    "        total_acc = 0\n",
    "        for i, datas in enumerate(test_loader):\n",
    "            test_x, test_label = datas[0].to(device), datas[1].to(device)\n",
    "            test_pred = net.forward(test_x)\n",
    "\n",
    "            l = loss(test_pred, test_label).sum()\n",
    "            total_loss += l\n",
    "\n",
    "            acc = accuracy(test_pred, test_label) / len(test_pred)\n",
    "            total_acc += acc\n",
    "\n",
    "        dp5_test_loss_list.append(total_loss.item())\n",
    "        dp5_test_acc_list.append(acc)\n",
    "        print('epoch: %d, total loss: %f, total_acc: %f'%(epoch + 1, total_loss / (i+1), total_acc / (i+1)))"
   ]
  },
  {
   "cell_type": "code",
   "execution_count": 50,
   "metadata": {},
   "outputs": [
    {
     "name": "stderr",
     "output_type": "stream",
     "text": [
      "/tmp/ipykernel_1364635/185350952.py:32: UserWarning: Implicit dimension choice for softmax has been deprecated. Change the call to include dim=X as an argument.\n",
      "  return self.softmax(x)\n"
     ]
    },
    {
     "name": "stdout",
     "output_type": "stream",
     "text": [
      "epoch: 1, total loss: 1.883101, total_acc: 0.620008\n",
      "epoch: 2, total loss: 1.745995, total_acc: 0.762280\n",
      "epoch: 3, total loss: 1.705767, total_acc: 0.785044\n",
      "epoch: 4, total loss: 1.687772, total_acc: 0.794728\n",
      "epoch: 5, total loss: 1.674889, total_acc: 0.807109\n",
      "epoch: 6, total loss: 1.669154, total_acc: 0.811202\n",
      "epoch: 7, total loss: 1.661292, total_acc: 0.813598\n",
      "epoch: 8, total loss: 1.648680, total_acc: 0.829473\n",
      "epoch: 9, total loss: 1.622481, total_acc: 0.858826\n",
      "epoch: 10, total loss: 1.610350, total_acc: 0.871605\n",
      "epoch: 11, total loss: 1.602118, total_acc: 0.875300\n",
      "epoch: 12, total loss: 1.599078, total_acc: 0.879193\n",
      "epoch: 13, total loss: 1.597031, total_acc: 0.879792\n",
      "epoch: 14, total loss: 1.591583, total_acc: 0.884585\n",
      "epoch: 15, total loss: 1.591537, total_acc: 0.883287\n",
      "epoch: 16, total loss: 1.584936, total_acc: 0.889577\n",
      "epoch: 17, total loss: 1.582900, total_acc: 0.889876\n",
      "epoch: 18, total loss: 1.584902, total_acc: 0.889577\n",
      "epoch: 19, total loss: 1.578548, total_acc: 0.893770\n",
      "epoch: 20, total loss: 1.577278, total_acc: 0.895268\n"
     ]
    }
   ],
   "source": [
    "image_size = 28\n",
    "class_num = 10\n",
    "device = 'cuda:0'\n",
    "\n",
    "layer_num  = 1   # 隐藏层数为1层\n",
    "hidden_dim = 100 # 隐藏层单元数为10\n",
    "drop_out   = 0.7    # 设置dropout rate 0.7\n",
    "activation = nn.ReLU() #激活函数选用ReLU\n",
    "net = Feedforward(image_size=image_size, class_num=class_num, layer_num=layer_num, hidden_dim=hidden_dim, activation=activation, drop_out=drop_out).to(device)\n",
    "opt = torch.optim.SGD(net.parameters(), lr=0.03)\n",
    "loss = nn.CrossEntropyLoss()\n",
    "\n",
    "dp7_train_loss_list = []\n",
    "dp7_test_loss_list = []\n",
    "dp7_test_acc_list = []\n",
    "for epoch in range(epoch_num):\n",
    "    for i, datas in enumerate(train_loader):\n",
    "        train_x, train_label = datas[0].to(device), datas[1].to(device)\n",
    "        train_pred = net.forward(train_x)\n",
    "        l = loss(train_pred, train_label).sum()\n",
    "        opt.zero_grad()\n",
    "        l.backward()\n",
    "        opt.step()\n",
    "        dp7_train_loss_list.append(l.item())\n",
    "    \n",
    "    with torch.no_grad():\n",
    "        total_loss = 0\n",
    "        total_acc = 0\n",
    "        for i, datas in enumerate(test_loader):\n",
    "            test_x, test_label = datas[0].to(device), datas[1].to(device)\n",
    "            test_pred = net.forward(test_x)\n",
    "\n",
    "            l = loss(test_pred, test_label).sum()\n",
    "            total_loss += l\n",
    "\n",
    "            acc = accuracy(test_pred, test_label) / len(test_pred)\n",
    "            total_acc += acc\n",
    "\n",
    "        dp7_test_loss_list.append(total_loss.item())\n",
    "        dp7_test_acc_list.append(acc)\n",
    "        print('epoch: %d, total loss: %f, total_acc: %f'%(epoch + 1, total_loss / (i+1), total_acc / (i+1)))"
   ]
  },
  {
   "cell_type": "markdown",
   "metadata": {},
   "source": [
    " 探究不同丢弃率对实验结果的影响（可用loss曲线进行展示）"
   ]
  },
  {
   "cell_type": "code",
   "execution_count": 52,
   "metadata": {},
   "outputs": [
    {
     "data": {
      "image/png": "[encoded data removed]",
      "text/plain": [
       "<Figure size 432x288 with 1 Axes>"
      ]
     },
     "metadata": {
      "needs_background": "light"
     },
     "output_type": "display_data"
    }
   ],
   "source": [
    "x = [i + 1 for i in range(len(dp3_test_loss_list))]\n",
    "y1 = dp3_test_loss_list\n",
    "y2 = dp5_test_loss_list\n",
    "y3 = dp7_test_loss_list\n",
    "l1 = plt.plot(x, y1, 'r--', label='dropout rate = 0.3')\n",
    "l2 = plt.plot(x, y2, 'y--', label='dropout rate = 0.5')\n",
    "l3 = plt.plot(x, y3, 'g--', label='dropout rate = 0.7')\n",
    "\n",
    "plt.title('Validation Losses')\n",
    "plt.xlabel('epoch')\n",
    "plt.ylabel('loss value')\n",
    "plt.legend()\n",
    "plt.show()"
   ]
  }
 ],
 "metadata": {
  "kernelspec": {
   "display_name": "Python 3.9.12 ('base')",
   "language": "python",
   "name": "python3"
  },
  "language_info": {
   "codemirror_mode": {
    "name": "ipython",
    "version": 3
   },
   "file_extension": ".py",
   "mimetype": "text/x-python",
   "name": "python",
   "nbconvert_exporter": "python",
   "pygments_lexer": "ipython3",
   "version": "3.9.12"
  },
  "orig_nbformat": 4,
  "vscode": {
   "interpreter": {
    "hash": "bb47ef1ad79943d811bafa2fa84fcb47147f85a402b583945e5888afc6d949fa"
   }
  }
 },
 "nbformat": 4,
 "nbformat_minor": 2
}
